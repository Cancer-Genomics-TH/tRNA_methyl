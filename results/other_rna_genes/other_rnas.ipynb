{
 "cells": [
  {
   "cell_type": "code",
   "execution_count": 1,
   "id": "0abc043b-6203-4a91-946a-84a228471924",
   "metadata": {},
   "outputs": [],
   "source": [
    "import polars as pl\n",
    "from polars import col"
   ]
  },
  {
   "cell_type": "code",
   "execution_count": 14,
   "id": "69335104-05df-4871-8190-510ca41ba97d",
   "metadata": {},
   "outputs": [],
   "source": [
    "in_fn = \"rna-genes.t2t.bo_and_trac51bp-seq.long_name_position.MT_fix.tsv\"\n",
    "\n",
    "df = pl.read_csv(in_fn, separator=\"\\t\", comment_char=\"#\", columns=range(0,10), infer_schema_length=10_000)\n",
    "#df = df.drop(['Chr', 'Start','End',  'Strand', 'Length'])\n"
   ]
  },
  {
   "cell_type": "code",
   "execution_count": 17,
   "id": "65923b25-516f-458a-a1e8-faafa3d8ed02",
   "metadata": {},
   "outputs": [
    {
     "data": {
      "text/plain": [
       "['Geneid', 'D1_BH4', 'D1_NT', 'NoD1_BH4', 'NoD1_NT']"
      ]
     },
     "execution_count": 17,
     "metadata": {},
     "output_type": "execute_result"
    }
   ],
   "source": [
    "df.columns"
   ]
  },
  {
   "cell_type": "code",
   "execution_count": 20,
   "id": "81332cb4-839f-44d4-97ee-b79bf9b0891b",
   "metadata": {},
   "outputs": [],
   "source": [
    "df = df.with_columns(col(\"Geneid\").str.split(\"__\").list.first().alias(\"RNA_class\"))"
   ]
  },
  {
   "cell_type": "code",
   "execution_count": 25,
   "id": "a1cb9b43-5f65-41d7-a1e0-77974e8575e6",
   "metadata": {},
   "outputs": [
    {
     "data": {
      "text/html": [
       "<div><style>\n",
       ".dataframe > thead > tr > th,\n",
       ".dataframe > tbody > tr > td {\n",
       "  text-align: right;\n",
       "}\n",
       "</style>\n",
       "<small>shape: (11, 2)</small><table border=\"1\" class=\"dataframe\"><thead><tr><th>RNA_class</th><th>total</th></tr><tr><td>str</td><td>u32</td></tr></thead><tbody><tr><td>&quot;snRNA&quot;</td><td>1902</td></tr><tr><td>&quot;miRNA&quot;</td><td>2046</td></tr><tr><td>&quot;misc_RNA&quot;</td><td>2231</td></tr><tr><td>&quot;snoRNA&quot;</td><td>948</td></tr><tr><td>&quot;scaRNA&quot;</td><td>48</td></tr><tr><td>&quot;rRNA_pseudogen…</td><td>514</td></tr><tr><td>&quot;rRNA&quot;</td><td>1007</td></tr><tr><td>&quot;Mt_rRNA&quot;</td><td>3</td></tr><tr><td>&quot;sRNA&quot;</td><td>5</td></tr><tr><td>&quot;scRNA&quot;</td><td>2</td></tr><tr><td>&quot;vault_RNA&quot;</td><td>1</td></tr></tbody></table></div>"
      ],
      "text/plain": [
       "shape: (11, 2)\n",
       "┌───────────┬───────┐\n",
       "│ RNA_class ┆ total │\n",
       "│ ---       ┆ ---   │\n",
       "│ str       ┆ u32   │\n",
       "╞═══════════╪═══════╡\n",
       "│ snRNA     ┆ 1902  │\n",
       "│ miRNA     ┆ 2046  │\n",
       "│ misc_RNA  ┆ 2231  │\n",
       "│ snoRNA    ┆ 948   │\n",
       "│ …         ┆ …     │\n",
       "│ Mt_rRNA   ┆ 3     │\n",
       "│ sRNA      ┆ 5     │\n",
       "│ scRNA     ┆ 2     │\n",
       "│ vault_RNA ┆ 1     │\n",
       "└───────────┴───────┘"
      ]
     },
     "execution_count": 25,
     "metadata": {},
     "output_type": "execute_result"
    }
   ],
   "source": [
    "rna_df = df.groupby(\"RNA_class\", maintain_order=True).count().rename({\"count\":\"total\"})\n",
    "rna_df"
   ]
  },
  {
   "cell_type": "code",
   "execution_count": 22,
   "id": "36fa5169-5c00-4ae0-97d8-92f7135c974d",
   "metadata": {},
   "outputs": [],
   "source": [
    "rna_to_use = [\"snRNA\", \"miRNA\", \"misc_RNA\", \"snoRNA\", \"scaRNA\", \"rRNA_pseudogene\", \"rRNA\"]"
   ]
  },
  {
   "cell_type": "code",
   "execution_count": 32,
   "id": "4f015997-f97a-4f49-9006-e73c378bd9d7",
   "metadata": {},
   "outputs": [
    {
     "name": "stdout",
     "output_type": "stream",
     "text": [
      "shape: (10, 2)\n",
      "┌───────────┬────────┐\n",
      "│ RNA_class ┆ D1_BH4 │\n",
      "│ ---       ┆ ---    │\n",
      "│ str       ┆ u32    │\n",
      "╞═══════════╪════════╡\n",
      "│ miRNA     ┆ 245    │\n",
      "│ snRNA     ┆ 399    │\n",
      "│ scaRNA    ┆ 21     │\n",
      "│ misc_RNA  ┆ 583    │\n",
      "│ …         ┆ …      │\n",
      "│ rRNA      ┆ 23     │\n",
      "│ Mt_rRNA   ┆ 3      │\n",
      "│ sRNA      ┆ 1      │\n",
      "│ vault_RNA ┆ 1      │\n",
      "└───────────┴────────┘\n",
      "shape: (10, 2)\n",
      "┌───────────┬───────┐\n",
      "│ RNA_class ┆ D1_NT │\n",
      "│ ---       ┆ ---   │\n",
      "│ str       ┆ u32   │\n",
      "╞═══════════╪═══════╡\n",
      "│ miRNA     ┆ 138   │\n",
      "│ snRNA     ┆ 333   │\n",
      "│ misc_RNA  ┆ 433   │\n",
      "│ scaRNA    ┆ 17    │\n",
      "│ …         ┆ …     │\n",
      "│ rRNA      ┆ 19    │\n",
      "│ Mt_rRNA   ┆ 3     │\n",
      "│ sRNA      ┆ 1     │\n",
      "│ vault_RNA ┆ 1     │\n",
      "└───────────┴───────┘\n",
      "shape: (9, 2)\n",
      "┌─────────────────┬──────────┐\n",
      "│ RNA_class       ┆ NoD1_BH4 │\n",
      "│ ---             ┆ ---      │\n",
      "│ str             ┆ u32      │\n",
      "╞═════════════════╪══════════╡\n",
      "│ miRNA           ┆ 214      │\n",
      "│ snRNA           ┆ 309      │\n",
      "│ misc_RNA        ┆ 499      │\n",
      "│ scaRNA          ┆ 21       │\n",
      "│ snoRNA          ┆ 319      │\n",
      "│ rRNA_pseudogene ┆ 218      │\n",
      "│ rRNA            ┆ 20       │\n",
      "│ Mt_rRNA         ┆ 3        │\n",
      "│ sRNA            ┆ 2        │\n",
      "└─────────────────┴──────────┘\n",
      "shape: (9, 2)\n",
      "┌─────────────────┬─────────┐\n",
      "│ RNA_class       ┆ NoD1_NT │\n",
      "│ ---             ┆ ---     │\n",
      "│ str             ┆ u32     │\n",
      "╞═════════════════╪═════════╡\n",
      "│ miRNA           ┆ 262     │\n",
      "│ misc_RNA        ┆ 561     │\n",
      "│ snRNA           ┆ 419     │\n",
      "│ scaRNA          ┆ 19      │\n",
      "│ snoRNA          ┆ 356     │\n",
      "│ rRNA_pseudogene ┆ 248     │\n",
      "│ rRNA            ┆ 21      │\n",
      "│ Mt_rRNA         ┆ 3       │\n",
      "│ sRNA            ┆ 1       │\n",
      "└─────────────────┴─────────┘\n"
     ]
    },
    {
     "data": {
      "text/html": [
       "<div><style>\n",
       ".dataframe > thead > tr > th,\n",
       ".dataframe > tbody > tr > td {\n",
       "  text-align: right;\n",
       "}\n",
       "</style>\n",
       "<small>shape: (9, 6)</small><table border=\"1\" class=\"dataframe\"><thead><tr><th>RNA_class</th><th>total</th><th>D1_BH4</th><th>D1_NT</th><th>NoD1_BH4</th><th>NoD1_NT</th></tr><tr><td>str</td><td>u32</td><td>u32</td><td>u32</td><td>u32</td><td>u32</td></tr></thead><tbody><tr><td>&quot;miRNA&quot;</td><td>2046</td><td>245</td><td>138</td><td>214</td><td>262</td></tr><tr><td>&quot;misc_RNA&quot;</td><td>2231</td><td>583</td><td>433</td><td>499</td><td>561</td></tr><tr><td>&quot;snRNA&quot;</td><td>1902</td><td>399</td><td>333</td><td>309</td><td>419</td></tr><tr><td>&quot;scaRNA&quot;</td><td>48</td><td>21</td><td>17</td><td>21</td><td>19</td></tr><tr><td>&quot;snoRNA&quot;</td><td>948</td><td>339</td><td>309</td><td>319</td><td>356</td></tr><tr><td>&quot;rRNA_pseudogen…</td><td>514</td><td>259</td><td>238</td><td>218</td><td>248</td></tr><tr><td>&quot;rRNA&quot;</td><td>1007</td><td>23</td><td>19</td><td>20</td><td>21</td></tr><tr><td>&quot;Mt_rRNA&quot;</td><td>3</td><td>3</td><td>3</td><td>3</td><td>3</td></tr><tr><td>&quot;sRNA&quot;</td><td>5</td><td>1</td><td>1</td><td>2</td><td>1</td></tr></tbody></table></div>"
      ],
      "text/plain": [
       "shape: (9, 6)\n",
       "┌─────────────────┬───────┬────────┬───────┬──────────┬─────────┐\n",
       "│ RNA_class       ┆ total ┆ D1_BH4 ┆ D1_NT ┆ NoD1_BH4 ┆ NoD1_NT │\n",
       "│ ---             ┆ ---   ┆ ---    ┆ ---   ┆ ---      ┆ ---     │\n",
       "│ str             ┆ u32   ┆ u32    ┆ u32   ┆ u32      ┆ u32     │\n",
       "╞═════════════════╪═══════╪════════╪═══════╪══════════╪═════════╡\n",
       "│ miRNA           ┆ 2046  ┆ 245    ┆ 138   ┆ 214      ┆ 262     │\n",
       "│ misc_RNA        ┆ 2231  ┆ 583    ┆ 433   ┆ 499      ┆ 561     │\n",
       "│ snRNA           ┆ 1902  ┆ 399    ┆ 333   ┆ 309      ┆ 419     │\n",
       "│ scaRNA          ┆ 48    ┆ 21     ┆ 17    ┆ 21       ┆ 19      │\n",
       "│ snoRNA          ┆ 948   ┆ 339    ┆ 309   ┆ 319      ┆ 356     │\n",
       "│ rRNA_pseudogene ┆ 514   ┆ 259    ┆ 238   ┆ 218      ┆ 248     │\n",
       "│ rRNA            ┆ 1007  ┆ 23     ┆ 19    ┆ 20       ┆ 21      │\n",
       "│ Mt_rRNA         ┆ 3     ┆ 3      ┆ 3     ┆ 3        ┆ 3       │\n",
       "│ sRNA            ┆ 5     ┆ 1      ┆ 1     ┆ 2        ┆ 1       │\n",
       "└─────────────────┴───────┴────────┴───────┴──────────┴─────────┘"
      ]
     },
     "execution_count": 32,
     "metadata": {},
     "output_type": "execute_result"
    }
   ],
   "source": [
    "for col_name in ['D1_BH4', 'D1_NT', 'NoD1_BH4', 'NoD1_NT']:\n",
    "    tmp_df = df.filter(col(col_name) > 0).groupby(\"RNA_class\", maintain_order=True).count()\n",
    "    tmp_df = tmp_df.rename({\"count\" : col_name})\n",
    "    print(tmp_df)\n",
    "    #.rename({\"count\", f\"{col_name}_counts\"})\n",
    "    rna_df = rna_df.join(tmp_df, on=\"RNA_class\")\n",
    "\n",
    "rna_df"
   ]
  },
  {
   "cell_type": "code",
   "execution_count": 33,
   "id": "73168ab2-8bc3-4736-979d-915fdf9bc43b",
   "metadata": {},
   "outputs": [],
   "source": [
    "rna_df.write_csv(\"rna_types_counts.tsv\", separator=\"\\t\")"
   ]
  },
  {
   "cell_type": "code",
   "execution_count": 35,
   "id": "f930f9a9-1a4b-4976-8044-6842d36a875e",
   "metadata": {},
   "outputs": [],
   "source": [
    "ratios_df = df.with_columns([(col(\"D1_NT\") + col(\"NoD1_NT\")).alias(\"NT_sum\"),\n",
    "                 (col(\"D1_BH4\") + col(\"NoD1_BH4\")).alias(\"treated_sum\")])"
   ]
  },
  {
   "cell_type": "code",
   "execution_count": 40,
   "id": "42b5bce4-c8f2-4ba8-8475-f0c7e17e7bd4",
   "metadata": {},
   "outputs": [],
   "source": [
    "ratios_df.filter(col(\"NT_sum\") > 10 ).filter(col(\"treated_sum\") > 10).with_columns((col(\"treated_sum\") / col(\"NT_sum\")).alias(\"ratio\")).sort(\"ratio\").write_csv(\"rna_genes_ratios.tsv\", separator=\"\\t\")"
   ]
  },
  {
   "cell_type": "code",
   "execution_count": null,
   "id": "ac5d5816-a388-4e0b-81c2-27c46519dc8d",
   "metadata": {},
   "outputs": [],
   "source": []
  }
 ],
 "metadata": {
  "kernelspec": {
   "display_name": "Python 3 (ipykernel)",
   "language": "python",
   "name": "python3"
  },
  "language_info": {
   "codemirror_mode": {
    "name": "ipython",
    "version": 3
   },
   "file_extension": ".py",
   "mimetype": "text/x-python",
   "name": "python",
   "nbconvert_exporter": "python",
   "pygments_lexer": "ipython3",
   "version": "3.11.4"
  }
 },
 "nbformat": 4,
 "nbformat_minor": 5
}
