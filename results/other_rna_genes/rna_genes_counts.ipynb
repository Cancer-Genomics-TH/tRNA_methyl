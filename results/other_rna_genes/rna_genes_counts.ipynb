{
 "cells": [
  {
   "cell_type": "markdown",
   "id": "383edac1-ede6-4176-bfa3-0302fdad416c",
   "metadata": {
    "tags": []
   },
   "source": [
    "# analyze non-tRNA genes\n",
    "\n",
    "## outputs\n",
    "\n",
    "* top100_RNA_genes.tsv\n",
    "* other_rna_gene_mapping_counts.filter_{filter_treshold}.tsv\n"
   ]
  },
  {
   "cell_type": "code",
   "execution_count": 1,
   "id": "d583e489-b14b-4248-bfca-c763aa9dae15",
   "metadata": {
    "tags": []
   },
   "outputs": [],
   "source": [
    "import polars as pl\n"
   ]
  },
  {
   "cell_type": "code",
   "execution_count": 2,
   "id": "bfe416a8-b729-4980-8ec5-c18f0e5747f0",
   "metadata": {
    "tags": []
   },
   "outputs": [
    {
     "data": {
      "text/html": [
       "<div><style>\n",
       ".dataframe > thead > tr > th,\n",
       ".dataframe > tbody > tr > td {\n",
       "  text-align: right;\n",
       "}\n",
       "</style>\n",
       "<small>shape: (8_707, 14)</small><table border=\"1\" class=\"dataframe\"><thead><tr><th>Geneid</th><th>Chr</th><th>Start</th><th>End</th><th>Strand</th><th>Length</th><th>D1_BH4.t2t.last.bam</th><th>D1_NT.t2t.last.bam</th><th>NoD1_BH4.t2t.last.bam</th><th>NoD1_NT.t2t.last.bam</th><th>SRR14552165.51bp.t2t.last.bam</th><th>SRR14552166.51bp.t2t.last.bam</th><th>SRR14552167.51bp.t2t.last.bam</th><th>SRR14552168.51bp.t2t.last.bam</th></tr><tr><td>str</td><td>str</td><td>i64</td><td>i64</td><td>str</td><td>i64</td><td>i64</td><td>i64</td><td>i64</td><td>i64</td><td>i64</td><td>i64</td><td>i64</td><td>i64</td></tr></thead><tbody><tr><td>&quot;snRNA__RNU6-11…</td><td>&quot;1&quot;</td><td>184765</td><td>184869</td><td>&quot;-&quot;</td><td>105</td><td>0</td><td>0</td><td>0</td><td>0</td><td>0</td><td>0</td><td>0</td><td>0</td></tr><tr><td>&quot;miRNA__MIR200B…</td><td>&quot;1&quot;</td><td>595700</td><td>595795</td><td>&quot;+&quot;</td><td>96</td><td>35</td><td>6</td><td>18</td><td>89</td><td>0</td><td>0</td><td>0</td><td>0</td></tr><tr><td>&quot;miRNA__MIR200A…</td><td>&quot;1&quot;</td><td>596459</td><td>596549</td><td>&quot;+&quot;</td><td>91</td><td>10</td><td>2</td><td>2</td><td>10</td><td>0</td><td>0</td><td>0</td><td>2</td></tr><tr><td>&quot;miRNA__MIR429-…</td><td>&quot;1&quot;</td><td>597601</td><td>597684</td><td>&quot;+&quot;</td><td>84</td><td>0</td><td>0</td><td>1</td><td>0</td><td>0</td><td>0</td><td>0</td><td>0</td></tr><tr><td>&quot;miRNA__MIR6726…</td><td>&quot;1&quot;</td><td>727655</td><td>727716</td><td>&quot;-&quot;</td><td>62</td><td>0</td><td>0</td><td>0</td><td>0</td><td>0</td><td>0</td><td>0</td><td>0</td></tr><tr><td>&quot;miRNA__MIR6727…</td><td>&quot;1&quot;</td><td>744057</td><td>744122</td><td>&quot;-&quot;</td><td>66</td><td>0</td><td>0</td><td>0</td><td>0</td><td>0</td><td>0</td><td>0</td><td>0</td></tr><tr><td>&quot;miRNA__MIR6808…</td><td>&quot;1&quot;</td><td>771234</td><td>771293</td><td>&quot;-&quot;</td><td>60</td><td>0</td><td>0</td><td>0</td><td>0</td><td>0</td><td>0</td><td>0</td><td>0</td></tr><tr><td>&quot;misc_RNA__RN7S…</td><td>&quot;1&quot;</td><td>837389</td><td>837682</td><td>&quot;-&quot;</td><td>294</td><td>0</td><td>0</td><td>0</td><td>3</td><td>0</td><td>0</td><td>0</td><td>0</td></tr><tr><td>&quot;miRNA__MIR4251…</td><td>&quot;1&quot;</td><td>2630076</td><td>2630137</td><td>&quot;+&quot;</td><td>62</td><td>0</td><td>0</td><td>0</td><td>0</td><td>0</td><td>0</td><td>0</td><td>0</td></tr><tr><td>&quot;miRNA__MIR551A…</td><td>&quot;1&quot;</td><td>3069002</td><td>3069098</td><td>&quot;-&quot;</td><td>97</td><td>0</td><td>0</td><td>0</td><td>0</td><td>0</td><td>0</td><td>0</td><td>0</td></tr><tr><td>&quot;misc_RNA__AL13…</td><td>&quot;1&quot;</td><td>3248543</td><td>3248704</td><td>&quot;+&quot;</td><td>162</td><td>0</td><td>0</td><td>0</td><td>0</td><td>0</td><td>0</td><td>0</td><td>0</td></tr><tr><td>&quot;misc_RNA__RN7S…</td><td>&quot;1&quot;</td><td>3294407</td><td>3294704</td><td>&quot;+&quot;</td><td>298</td><td>0</td><td>0</td><td>0</td><td>0</td><td>0</td><td>0</td><td>0</td><td>0</td></tr><tr><td>&hellip;</td><td>&hellip;</td><td>&hellip;</td><td>&hellip;</td><td>&hellip;</td><td>&hellip;</td><td>&hellip;</td><td>&hellip;</td><td>&hellip;</td><td>&hellip;</td><td>&hellip;</td><td>&hellip;</td><td>&hellip;</td><td>&hellip;</td></tr><tr><td>&quot;rRNA_pseudogen…</td><td>&quot;Y&quot;</td><td>19252610</td><td>19252726</td><td>&quot;-&quot;</td><td>117</td><td>0</td><td>0</td><td>0</td><td>0</td><td>3</td><td>6</td><td>2</td><td>6</td></tr><tr><td>&quot;rRNA_pseudogen…</td><td>&quot;Y&quot;</td><td>19254523</td><td>19254636</td><td>&quot;-&quot;</td><td>114</td><td>0</td><td>0</td><td>0</td><td>0</td><td>5</td><td>7</td><td>2</td><td>6</td></tr><tr><td>&quot;snRNA__RNU1-48…</td><td>&quot;Y&quot;</td><td>19392995</td><td>19393157</td><td>&quot;+&quot;</td><td>163</td><td>0</td><td>0</td><td>0</td><td>0</td><td>1</td><td>1</td><td>2</td><td>4</td></tr><tr><td>&quot;snRNA__RNU1-41…</td><td>&quot;Y&quot;</td><td>19740200</td><td>19740362</td><td>&quot;-&quot;</td><td>163</td><td>0</td><td>0</td><td>0</td><td>0</td><td>0</td><td>0</td><td>0</td><td>0</td></tr><tr><td>&quot;snRNA__RNU6-25…</td><td>&quot;Y&quot;</td><td>19925486</td><td>19925591</td><td>&quot;-&quot;</td><td>106</td><td>0</td><td>0</td><td>0</td><td>0</td><td>0</td><td>0</td><td>0</td><td>0</td></tr><tr><td>&quot;misc_RNA__RN7S…</td><td>&quot;Y&quot;</td><td>24651360</td><td>24651619</td><td>&quot;+&quot;</td><td>260</td><td>0</td><td>0</td><td>0</td><td>0</td><td>0</td><td>0</td><td>0</td><td>0</td></tr><tr><td>&quot;snRNA__RNU1-86…</td><td>&quot;Y&quot;</td><td>24915798</td><td>24915952</td><td>&quot;+&quot;</td><td>155</td><td>0</td><td>0</td><td>0</td><td>0</td><td>0</td><td>0</td><td>0</td><td>0</td></tr><tr><td>&quot;snRNA__RNU1-40…</td><td>&quot;Y&quot;</td><td>25121474</td><td>25121638</td><td>&quot;+&quot;</td><td>165</td><td>0</td><td>0</td><td>0</td><td>1</td><td>6</td><td>18</td><td>13</td><td>20</td></tr><tr><td>&quot;snoRNA__SNORA7…</td><td>&quot;Y&quot;</td><td>25439860</td><td>25439998</td><td>&quot;+&quot;</td><td>139</td><td>0</td><td>0</td><td>0</td><td>0</td><td>0</td><td>0</td><td>0</td><td>0</td></tr><tr><td>&quot;snRNA__RNU1-97…</td><td>&quot;Y&quot;</td><td>26741415</td><td>26741579</td><td>&quot;+&quot;</td><td>165</td><td>0</td><td>0</td><td>0</td><td>0</td><td>0</td><td>0</td><td>0</td><td>0</td></tr><tr><td>&quot;snoRNA__SNORA7…</td><td>&quot;Y&quot;</td><td>27059284</td><td>27059422</td><td>&quot;+&quot;</td><td>139</td><td>0</td><td>0</td><td>0</td><td>0</td><td>0</td><td>0</td><td>0</td><td>0</td></tr><tr><td>&quot;snRNA__RNU6-13…</td><td>&quot;Y&quot;</td><td>27172889</td><td>27172993</td><td>&quot;+&quot;</td><td>105</td><td>0</td><td>0</td><td>0</td><td>0</td><td>0</td><td>0</td><td>0</td><td>0</td></tr></tbody></table></div>"
      ],
      "text/plain": [
       "shape: (8_707, 14)\n",
       "┌──────────────┬─────┬──────────┬──────────┬───┬────────────┬────────────┬────────────┬────────────┐\n",
       "│ Geneid       ┆ Chr ┆ Start    ┆ End      ┆ … ┆ SRR1455216 ┆ SRR1455216 ┆ SRR1455216 ┆ SRR1455216 │\n",
       "│ ---          ┆ --- ┆ ---      ┆ ---      ┆   ┆ 5.51bp.t2t ┆ 6.51bp.t2t ┆ 7.51bp.t2t ┆ 8.51bp.t2t │\n",
       "│ str          ┆ str ┆ i64      ┆ i64      ┆   ┆ .last.bam  ┆ .last.bam  ┆ .last.bam  ┆ .last.bam  │\n",
       "│              ┆     ┆          ┆          ┆   ┆ ---        ┆ ---        ┆ ---        ┆ ---        │\n",
       "│              ┆     ┆          ┆          ┆   ┆ i64        ┆ i64        ┆ i64        ┆ i64        │\n",
       "╞══════════════╪═════╪══════════╪══════════╪═══╪════════════╪════════════╪════════════╪════════════╡\n",
       "│ snRNA__RNU6- ┆ 1   ┆ 184765   ┆ 184869   ┆ … ┆ 0          ┆ 0          ┆ 0          ┆ 0          │\n",
       "│ 1199P-201__E ┆     ┆          ┆          ┆   ┆            ┆            ┆            ┆            │\n",
       "│ NSG00000…    ┆     ┆          ┆          ┆   ┆            ┆            ┆            ┆            │\n",
       "│ miRNA__MIR20 ┆ 1   ┆ 595700   ┆ 595795   ┆ … ┆ 0          ┆ 0          ┆ 0          ┆ 0          │\n",
       "│ 0B-201__ENSG ┆     ┆          ┆          ┆   ┆            ┆            ┆            ┆            │\n",
       "│ 00000207…    ┆     ┆          ┆          ┆   ┆            ┆            ┆            ┆            │\n",
       "│ miRNA__MIR20 ┆ 1   ┆ 596459   ┆ 596549   ┆ … ┆ 0          ┆ 0          ┆ 0          ┆ 2          │\n",
       "│ 0A-201__ENSG ┆     ┆          ┆          ┆   ┆            ┆            ┆            ┆            │\n",
       "│ 00000207…    ┆     ┆          ┆          ┆   ┆            ┆            ┆            ┆            │\n",
       "│ miRNA__MIR42 ┆ 1   ┆ 597601   ┆ 597684   ┆ … ┆ 0          ┆ 0          ┆ 0          ┆ 0          │\n",
       "│ 9-201__ENSG0 ┆     ┆          ┆          ┆   ┆            ┆            ┆            ┆            │\n",
       "│ 00001989…    ┆     ┆          ┆          ┆   ┆            ┆            ┆            ┆            │\n",
       "│ …            ┆ …   ┆ …        ┆ …        ┆ … ┆ …          ┆ …          ┆ …          ┆ …          │\n",
       "│ snoRNA__SNOR ┆ Y   ┆ 25439860 ┆ 25439998 ┆ … ┆ 0          ┆ 0          ┆ 0          ┆ 0          │\n",
       "│ A70.10-201__ ┆     ┆          ┆          ┆   ┆            ┆            ┆            ┆            │\n",
       "│ ENSG0000…    ┆     ┆          ┆          ┆   ┆            ┆            ┆            ┆            │\n",
       "│ snRNA__RNU1- ┆ Y   ┆ 26741415 ┆ 26741579 ┆ … ┆ 0          ┆ 0          ┆ 0          ┆ 0          │\n",
       "│ 97P-1__ENSG0 ┆     ┆          ┆          ┆   ┆            ┆            ┆            ┆            │\n",
       "│ 00002526…    ┆     ┆          ┆          ┆   ┆            ┆            ┆            ┆            │\n",
       "│ snoRNA__SNOR ┆ Y   ┆ 27059284 ┆ 27059422 ┆ … ┆ 0          ┆ 0          ┆ 0          ┆ 0          │\n",
       "│ A70-1__ENSG0 ┆     ┆          ┆          ┆   ┆            ┆            ┆            ┆            │\n",
       "│ 00002517…    ┆     ┆          ┆          ┆   ┆            ┆            ┆            ┆            │\n",
       "│ snRNA__RNU6- ┆ Y   ┆ 27172889 ┆ 27172993 ┆ … ┆ 0          ┆ 0          ┆ 0          ┆ 0          │\n",
       "│ 1314P-201__E ┆     ┆          ┆          ┆   ┆            ┆            ┆            ┆            │\n",
       "│ NSG00000…    ┆     ┆          ┆          ┆   ┆            ┆            ┆            ┆            │\n",
       "└──────────────┴─────┴──────────┴──────────┴───┴────────────┴────────────┴────────────┴────────────┘"
      ]
     },
     "execution_count": 2,
     "metadata": {},
     "output_type": "execute_result"
    }
   ],
   "source": [
    "#exclude_rna_types = ['lncRNA', \"Mt_tRNA\", \"Mt_rRNA\", ]\n",
    "\n",
    "\n",
    "counts_fn = \"rna-genes.t2t.bo_and_trac51bp-seq.long_name_position.MT_fix.tsv.gz\"\n",
    "\n",
    "rnas_df = pl.read_csv(counts_fn, \n",
    "                      comment_char=\"#\", \n",
    "                      separator=\"\\t\",\n",
    "                      infer_schema_length=10000\n",
    "                     )\n",
    "\n",
    "#.filter(pl.col(\"Chr\") == \"M\")\n",
    "\n",
    "#.filter((pl.col(\"rna_class\").str.ends_with(\"RNA\")) & (~pl.col(\"rna_class\").is_in(exclude_rna_types)))\n",
    "\n",
    "rnas_df"
   ]
  },
  {
   "cell_type": "code",
   "execution_count": 3,
   "id": "b25f53da-18f4-4c2c-bb33-0f6c884c80e5",
   "metadata": {},
   "outputs": [
    {
     "data": {
      "text/html": [
       "<div><style>\n",
       ".dataframe > thead > tr > th,\n",
       ".dataframe > tbody > tr > td {\n",
       "  text-align: right;\n",
       "}\n",
       "</style>\n",
       "<small>shape: (8_707, 15)</small><table border=\"1\" class=\"dataframe\"><thead><tr><th>Geneid</th><th>Chr</th><th>Start</th><th>End</th><th>Strand</th><th>Length</th><th>D1_BH4</th><th>D1_NT</th><th>NoD1_BH4</th><th>NoD1_NT</th><th>SRR14552165_TRAC-Seq</th><th>SRR14552166_NT</th><th>SRR14552167_TRAC-Seq</th><th>SRR14552168_NT</th><th>rna_class</th></tr><tr><td>str</td><td>str</td><td>i64</td><td>i64</td><td>str</td><td>i64</td><td>i64</td><td>i64</td><td>i64</td><td>i64</td><td>i64</td><td>i64</td><td>i64</td><td>i64</td><td>str</td></tr></thead><tbody><tr><td>&quot;snRNA__RNU6-11…</td><td>&quot;1&quot;</td><td>184765</td><td>184869</td><td>&quot;-&quot;</td><td>105</td><td>0</td><td>0</td><td>0</td><td>0</td><td>0</td><td>0</td><td>0</td><td>0</td><td>&quot;snRNA&quot;</td></tr><tr><td>&quot;miRNA__MIR200B…</td><td>&quot;1&quot;</td><td>595700</td><td>595795</td><td>&quot;+&quot;</td><td>96</td><td>35</td><td>6</td><td>18</td><td>89</td><td>0</td><td>0</td><td>0</td><td>0</td><td>&quot;miRNA&quot;</td></tr><tr><td>&quot;miRNA__MIR200A…</td><td>&quot;1&quot;</td><td>596459</td><td>596549</td><td>&quot;+&quot;</td><td>91</td><td>10</td><td>2</td><td>2</td><td>10</td><td>0</td><td>0</td><td>0</td><td>2</td><td>&quot;miRNA&quot;</td></tr><tr><td>&quot;miRNA__MIR429-…</td><td>&quot;1&quot;</td><td>597601</td><td>597684</td><td>&quot;+&quot;</td><td>84</td><td>0</td><td>0</td><td>1</td><td>0</td><td>0</td><td>0</td><td>0</td><td>0</td><td>&quot;miRNA&quot;</td></tr><tr><td>&quot;miRNA__MIR6726…</td><td>&quot;1&quot;</td><td>727655</td><td>727716</td><td>&quot;-&quot;</td><td>62</td><td>0</td><td>0</td><td>0</td><td>0</td><td>0</td><td>0</td><td>0</td><td>0</td><td>&quot;miRNA&quot;</td></tr><tr><td>&quot;miRNA__MIR6727…</td><td>&quot;1&quot;</td><td>744057</td><td>744122</td><td>&quot;-&quot;</td><td>66</td><td>0</td><td>0</td><td>0</td><td>0</td><td>0</td><td>0</td><td>0</td><td>0</td><td>&quot;miRNA&quot;</td></tr><tr><td>&quot;miRNA__MIR6808…</td><td>&quot;1&quot;</td><td>771234</td><td>771293</td><td>&quot;-&quot;</td><td>60</td><td>0</td><td>0</td><td>0</td><td>0</td><td>0</td><td>0</td><td>0</td><td>0</td><td>&quot;miRNA&quot;</td></tr><tr><td>&quot;misc_RNA__RN7S…</td><td>&quot;1&quot;</td><td>837389</td><td>837682</td><td>&quot;-&quot;</td><td>294</td><td>0</td><td>0</td><td>0</td><td>3</td><td>0</td><td>0</td><td>0</td><td>0</td><td>&quot;misc_RNA&quot;</td></tr><tr><td>&quot;miRNA__MIR4251…</td><td>&quot;1&quot;</td><td>2630076</td><td>2630137</td><td>&quot;+&quot;</td><td>62</td><td>0</td><td>0</td><td>0</td><td>0</td><td>0</td><td>0</td><td>0</td><td>0</td><td>&quot;miRNA&quot;</td></tr><tr><td>&quot;miRNA__MIR551A…</td><td>&quot;1&quot;</td><td>3069002</td><td>3069098</td><td>&quot;-&quot;</td><td>97</td><td>0</td><td>0</td><td>0</td><td>0</td><td>0</td><td>0</td><td>0</td><td>0</td><td>&quot;miRNA&quot;</td></tr><tr><td>&quot;misc_RNA__AL13…</td><td>&quot;1&quot;</td><td>3248543</td><td>3248704</td><td>&quot;+&quot;</td><td>162</td><td>0</td><td>0</td><td>0</td><td>0</td><td>0</td><td>0</td><td>0</td><td>0</td><td>&quot;misc_RNA&quot;</td></tr><tr><td>&quot;misc_RNA__RN7S…</td><td>&quot;1&quot;</td><td>3294407</td><td>3294704</td><td>&quot;+&quot;</td><td>298</td><td>0</td><td>0</td><td>0</td><td>0</td><td>0</td><td>0</td><td>0</td><td>0</td><td>&quot;misc_RNA&quot;</td></tr><tr><td>&hellip;</td><td>&hellip;</td><td>&hellip;</td><td>&hellip;</td><td>&hellip;</td><td>&hellip;</td><td>&hellip;</td><td>&hellip;</td><td>&hellip;</td><td>&hellip;</td><td>&hellip;</td><td>&hellip;</td><td>&hellip;</td><td>&hellip;</td><td>&hellip;</td></tr><tr><td>&quot;rRNA_pseudogen…</td><td>&quot;Y&quot;</td><td>19252610</td><td>19252726</td><td>&quot;-&quot;</td><td>117</td><td>0</td><td>0</td><td>0</td><td>0</td><td>3</td><td>6</td><td>2</td><td>6</td><td>&quot;rRNA_pseudogen…</td></tr><tr><td>&quot;rRNA_pseudogen…</td><td>&quot;Y&quot;</td><td>19254523</td><td>19254636</td><td>&quot;-&quot;</td><td>114</td><td>0</td><td>0</td><td>0</td><td>0</td><td>5</td><td>7</td><td>2</td><td>6</td><td>&quot;rRNA_pseudogen…</td></tr><tr><td>&quot;snRNA__RNU1-48…</td><td>&quot;Y&quot;</td><td>19392995</td><td>19393157</td><td>&quot;+&quot;</td><td>163</td><td>0</td><td>0</td><td>0</td><td>0</td><td>1</td><td>1</td><td>2</td><td>4</td><td>&quot;snRNA&quot;</td></tr><tr><td>&quot;snRNA__RNU1-41…</td><td>&quot;Y&quot;</td><td>19740200</td><td>19740362</td><td>&quot;-&quot;</td><td>163</td><td>0</td><td>0</td><td>0</td><td>0</td><td>0</td><td>0</td><td>0</td><td>0</td><td>&quot;snRNA&quot;</td></tr><tr><td>&quot;snRNA__RNU6-25…</td><td>&quot;Y&quot;</td><td>19925486</td><td>19925591</td><td>&quot;-&quot;</td><td>106</td><td>0</td><td>0</td><td>0</td><td>0</td><td>0</td><td>0</td><td>0</td><td>0</td><td>&quot;snRNA&quot;</td></tr><tr><td>&quot;misc_RNA__RN7S…</td><td>&quot;Y&quot;</td><td>24651360</td><td>24651619</td><td>&quot;+&quot;</td><td>260</td><td>0</td><td>0</td><td>0</td><td>0</td><td>0</td><td>0</td><td>0</td><td>0</td><td>&quot;misc_RNA&quot;</td></tr><tr><td>&quot;snRNA__RNU1-86…</td><td>&quot;Y&quot;</td><td>24915798</td><td>24915952</td><td>&quot;+&quot;</td><td>155</td><td>0</td><td>0</td><td>0</td><td>0</td><td>0</td><td>0</td><td>0</td><td>0</td><td>&quot;snRNA&quot;</td></tr><tr><td>&quot;snRNA__RNU1-40…</td><td>&quot;Y&quot;</td><td>25121474</td><td>25121638</td><td>&quot;+&quot;</td><td>165</td><td>0</td><td>0</td><td>0</td><td>1</td><td>6</td><td>18</td><td>13</td><td>20</td><td>&quot;snRNA&quot;</td></tr><tr><td>&quot;snoRNA__SNORA7…</td><td>&quot;Y&quot;</td><td>25439860</td><td>25439998</td><td>&quot;+&quot;</td><td>139</td><td>0</td><td>0</td><td>0</td><td>0</td><td>0</td><td>0</td><td>0</td><td>0</td><td>&quot;snoRNA&quot;</td></tr><tr><td>&quot;snRNA__RNU1-97…</td><td>&quot;Y&quot;</td><td>26741415</td><td>26741579</td><td>&quot;+&quot;</td><td>165</td><td>0</td><td>0</td><td>0</td><td>0</td><td>0</td><td>0</td><td>0</td><td>0</td><td>&quot;snRNA&quot;</td></tr><tr><td>&quot;snoRNA__SNORA7…</td><td>&quot;Y&quot;</td><td>27059284</td><td>27059422</td><td>&quot;+&quot;</td><td>139</td><td>0</td><td>0</td><td>0</td><td>0</td><td>0</td><td>0</td><td>0</td><td>0</td><td>&quot;snoRNA&quot;</td></tr><tr><td>&quot;snRNA__RNU6-13…</td><td>&quot;Y&quot;</td><td>27172889</td><td>27172993</td><td>&quot;+&quot;</td><td>105</td><td>0</td><td>0</td><td>0</td><td>0</td><td>0</td><td>0</td><td>0</td><td>0</td><td>&quot;snRNA&quot;</td></tr></tbody></table></div>"
      ],
      "text/plain": [
       "shape: (8_707, 15)\n",
       "┌───────────────┬─────┬──────────┬──────────┬───┬────────────┬────────────┬────────────┬───────────┐\n",
       "│ Geneid        ┆ Chr ┆ Start    ┆ End      ┆ … ┆ SRR1455216 ┆ SRR1455216 ┆ SRR1455216 ┆ rna_class │\n",
       "│ ---           ┆ --- ┆ ---      ┆ ---      ┆   ┆ 6_NT       ┆ 7_TRAC-Seq ┆ 8_NT       ┆ ---       │\n",
       "│ str           ┆ str ┆ i64      ┆ i64      ┆   ┆ ---        ┆ ---        ┆ ---        ┆ str       │\n",
       "│               ┆     ┆          ┆          ┆   ┆ i64        ┆ i64        ┆ i64        ┆           │\n",
       "╞═══════════════╪═════╪══════════╪══════════╪═══╪════════════╪════════════╪════════════╪═══════════╡\n",
       "│ snRNA__RNU6-1 ┆ 1   ┆ 184765   ┆ 184869   ┆ … ┆ 0          ┆ 0          ┆ 0          ┆ snRNA     │\n",
       "│ 199P-201__ENS ┆     ┆          ┆          ┆   ┆            ┆            ┆            ┆           │\n",
       "│ G00000…       ┆     ┆          ┆          ┆   ┆            ┆            ┆            ┆           │\n",
       "│ miRNA__MIR200 ┆ 1   ┆ 595700   ┆ 595795   ┆ … ┆ 0          ┆ 0          ┆ 0          ┆ miRNA     │\n",
       "│ B-201__ENSG00 ┆     ┆          ┆          ┆   ┆            ┆            ┆            ┆           │\n",
       "│ 000207…       ┆     ┆          ┆          ┆   ┆            ┆            ┆            ┆           │\n",
       "│ miRNA__MIR200 ┆ 1   ┆ 596459   ┆ 596549   ┆ … ┆ 0          ┆ 0          ┆ 2          ┆ miRNA     │\n",
       "│ A-201__ENSG00 ┆     ┆          ┆          ┆   ┆            ┆            ┆            ┆           │\n",
       "│ 000207…       ┆     ┆          ┆          ┆   ┆            ┆            ┆            ┆           │\n",
       "│ miRNA__MIR429 ┆ 1   ┆ 597601   ┆ 597684   ┆ … ┆ 0          ┆ 0          ┆ 0          ┆ miRNA     │\n",
       "│ -201__ENSG000 ┆     ┆          ┆          ┆   ┆            ┆            ┆            ┆           │\n",
       "│ 001989…       ┆     ┆          ┆          ┆   ┆            ┆            ┆            ┆           │\n",
       "│ …             ┆ …   ┆ …        ┆ …        ┆ … ┆ …          ┆ …          ┆ …          ┆ …         │\n",
       "│ snoRNA__SNORA ┆ Y   ┆ 25439860 ┆ 25439998 ┆ … ┆ 0          ┆ 0          ┆ 0          ┆ snoRNA    │\n",
       "│ 70.10-201__EN ┆     ┆          ┆          ┆   ┆            ┆            ┆            ┆           │\n",
       "│ SG0000…       ┆     ┆          ┆          ┆   ┆            ┆            ┆            ┆           │\n",
       "│ snRNA__RNU1-9 ┆ Y   ┆ 26741415 ┆ 26741579 ┆ … ┆ 0          ┆ 0          ┆ 0          ┆ snRNA     │\n",
       "│ 7P-1__ENSG000 ┆     ┆          ┆          ┆   ┆            ┆            ┆            ┆           │\n",
       "│ 002526…       ┆     ┆          ┆          ┆   ┆            ┆            ┆            ┆           │\n",
       "│ snoRNA__SNORA ┆ Y   ┆ 27059284 ┆ 27059422 ┆ … ┆ 0          ┆ 0          ┆ 0          ┆ snoRNA    │\n",
       "│ 70-1__ENSG000 ┆     ┆          ┆          ┆   ┆            ┆            ┆            ┆           │\n",
       "│ 002517…       ┆     ┆          ┆          ┆   ┆            ┆            ┆            ┆           │\n",
       "│ snRNA__RNU6-1 ┆ Y   ┆ 27172889 ┆ 27172993 ┆ … ┆ 0          ┆ 0          ┆ 0          ┆ snRNA     │\n",
       "│ 314P-201__ENS ┆     ┆          ┆          ┆   ┆            ┆            ┆            ┆           │\n",
       "│ G00000…       ┆     ┆          ┆          ┆   ┆            ┆            ┆            ┆           │\n",
       "└───────────────┴─────┴──────────┴──────────┴───┴────────────┴────────────┴────────────┴───────────┘"
      ]
     },
     "execution_count": 3,
     "metadata": {},
     "output_type": "execute_result"
    }
   ],
   "source": [
    "orig_names = \"D1_BH4.t2t.last.bam\tD1_NT.t2t.last.bam\tNoD1_BH4.t2t.last.bam\tNoD1_NT.t2t.last.bam\tSRR14552165.51bp.t2t.last.bam\tSRR14552166.51bp.t2t.last.bam\tSRR14552167.51bp.t2t.last.bam\tSRR14552168.51bp.t2t.last.bam\".split()\n",
    "new_names = \"D1_BH4 D1_NT NoD1_BH4 NoD1_NT SRR14552165_TRAC-Seq SRR14552166_NT  SRR14552167_TRAC-Seq SRR14552168_NT\".split()\n",
    "renaming_dict = dict(zip(orig_names, new_names))\n",
    "\n",
    "df = rnas_df.rename(renaming_dict)\n",
    "\n",
    "df = df.with_columns(pl.col(\"Geneid\").str.split(\"__\").list.first().alias(\"rna_class\"))\n",
    "\n",
    "df"
   ]
  },
  {
   "cell_type": "code",
   "execution_count": 4,
   "id": "edce4bba-d853-4a74-a293-e0da282f938d",
   "metadata": {},
   "outputs": [
    {
     "data": {
      "text/html": [
       "<div><style>\n",
       ".dataframe > thead > tr > th,\n",
       ".dataframe > tbody > tr > td {\n",
       "  text-align: right;\n",
       "}\n",
       "</style>\n",
       "<small>shape: (11, 2)</small><table border=\"1\" class=\"dataframe\"><thead><tr><th>rna_class</th><th>annotation_counts</th></tr><tr><td>str</td><td>u32</td></tr></thead><tbody><tr><td>&quot;Mt_rRNA&quot;</td><td>3</td></tr><tr><td>&quot;miRNA&quot;</td><td>2046</td></tr><tr><td>&quot;misc_RNA&quot;</td><td>2231</td></tr><tr><td>&quot;rRNA&quot;</td><td>1007</td></tr><tr><td>&quot;rRNA_pseudogen…</td><td>514</td></tr><tr><td>&quot;sRNA&quot;</td><td>5</td></tr><tr><td>&quot;scRNA&quot;</td><td>2</td></tr><tr><td>&quot;scaRNA&quot;</td><td>48</td></tr><tr><td>&quot;snRNA&quot;</td><td>1902</td></tr><tr><td>&quot;snoRNA&quot;</td><td>948</td></tr><tr><td>&quot;vault_RNA&quot;</td><td>1</td></tr></tbody></table></div>"
      ],
      "text/plain": [
       "shape: (11, 2)\n",
       "┌───────────┬───────────────────┐\n",
       "│ rna_class ┆ annotation_counts │\n",
       "│ ---       ┆ ---               │\n",
       "│ str       ┆ u32               │\n",
       "╞═══════════╪═══════════════════╡\n",
       "│ Mt_rRNA   ┆ 3                 │\n",
       "│ miRNA     ┆ 2046              │\n",
       "│ misc_RNA  ┆ 2231              │\n",
       "│ rRNA      ┆ 1007              │\n",
       "│ …         ┆ …                 │\n",
       "│ scaRNA    ┆ 48                │\n",
       "│ snRNA     ┆ 1902              │\n",
       "│ snoRNA    ┆ 948               │\n",
       "│ vault_RNA ┆ 1                 │\n",
       "└───────────┴───────────────────┘"
      ]
     },
     "execution_count": 4,
     "metadata": {},
     "output_type": "execute_result"
    }
   ],
   "source": [
    "rnas_class_counts = df.groupby(\"rna_class\").count().rename({\"count\":\"annotation_counts\"}).sort(\"rna_class\")\n",
    "rnas_class_counts"
   ]
  },
  {
   "cell_type": "code",
   "execution_count": 5,
   "id": "2707cb37-f03f-44f2-858a-631bf5d5a6c3",
   "metadata": {},
   "outputs": [
    {
     "name": "stdout",
     "output_type": "stream",
     "text": [
      "{'D1_BH4': 6.264367, 'D1_NT': 11.39327, 'NoD1_BH4': 5.786219, 'NoD1_NT': 8.678962, 'SRR14552165_TRAC-Seq': 29.340359, 'SRR14552166_NT': 30.463935, 'SRR14552167_TRAC-Seq': 23.964256, 'SRR14552168_NT': 25.222481}\n"
     ]
    }
   ],
   "source": [
    "mapping_counts_dict = {}\n",
    "mapping_counts = \"\"\"D1_BH4.t2t.last.bam\t6264367\n",
    "D1_NT.t2t.last.bam\t11393270\n",
    "NoD1_BH4.t2t.last.bam\t5786219\n",
    "NoD1_NT.t2t.last.bam\t8678962\n",
    "SRR14552165.51bp.t2t.last.bam\t29340359\n",
    "SRR14552166.51bp.t2t.last.bam\t30463935\n",
    "SRR14552167.51bp.t2t.last.bam\t23964256\n",
    "SRR14552168.51bp.t2t.last.bam\t25222481\"\"\".splitlines()\n",
    "\n",
    "for item in mapping_counts:\n",
    "    sl = item.split(\"\\t\")\n",
    "    bam_name = sl[0]\n",
    "    reads_mapped = int(sl[1])\n",
    "    col_name = renaming_dict[bam_name]\n",
    "    mapping_counts_dict[col_name] = reads_mapped/1_000_000\n",
    "    #print(sl)\n",
    "print(mapping_counts_dict)"
   ]
  },
  {
   "cell_type": "code",
   "execution_count": 16,
   "id": "5ef668f2-56b5-49fa-9059-63a3d92a205e",
   "metadata": {},
   "outputs": [],
   "source": [
    "rpkm_cols = list(mapping_counts_dict.keys())\n",
    "#print(rpkm_cols)\n",
    "for count_column in rpkm_cols:\n",
    "    mapped_per_1m = mapping_counts_dict[count_column]\n",
    "    df = df.with_columns((pl.col(count_column)/mapped_per_1m).alias(f\"{count_column}_cpm\"))\n",
    "    \n",
    "    \n",
    "    \n",
    "cpm_df = df.with_columns(\n",
    "    pl.sum(pl.col(\"^*_cpm$\")).alias('cpm_row_sum')\n",
    ").sort('cpm_row_sum', descending=True ).filter(pl.col(\"cpm_row_sum\") > 0) \n",
    "\n",
    "cpm_df\n",
    "cpm_df.write_csv(\"norm_counts.other_rnas.tsv\", separator=\"\\t\")"
   ]
  },
  {
   "cell_type": "code",
   "execution_count": 17,
   "id": "001f2b6d-6235-4444-908d-c894972e9dc2",
   "metadata": {
    "tags": []
   },
   "outputs": [
    {
     "data": {
      "text/plain": [
       "'\\n\\njoined_rnas_class_df = rnas_class_counts\\n\\nfilter_treshold = 10\\ncols_for_counts = rpkm_cols\\n\\nfor sample in cols_for_counts:\\n    new_count_name = f\"count_{sample}\"\\n    tmp_df = df.filter(pl.col(sample) >= filter_treshold)\\n    tmp_df = tmp_df.join(rnas_df, on=\"ensembl_id\").groupby(\"rna_class\").count().rename({\"count\":new_count_name}) #.sort(\"rna_class\")\\n    print(tmp_df)\\n    joined_rnas_class_df = joined_rnas_class_df.join(tmp_df, on=\"rna_class\", how=\"left\")\\n    print(joined_rnas_class_df)\\n\\n#joined_rnas_class_df.write_csv(f\"other_rna_gene_mapping_counts.filter_{filter_treshold}.tsv\", sep=\"\\t\")\\n\\n'"
      ]
     },
     "execution_count": 17,
     "metadata": {},
     "output_type": "execute_result"
    }
   ],
   "source": [
    "## old code not working with new data\n",
    "## FIXME\n",
    "\"\"\"\n",
    "\n",
    "joined_rnas_class_df = rnas_class_counts\n",
    "\n",
    "filter_treshold = 10\n",
    "cols_for_counts = rpkm_cols\n",
    "\n",
    "for sample in cols_for_counts:\n",
    "    new_count_name = f\"count_{sample}\"\n",
    "    tmp_df = df.filter(pl.col(sample) >= filter_treshold)\n",
    "    tmp_df = tmp_df.join(rnas_df, on=\"ensembl_id\").groupby(\"rna_class\").count().rename({\"count\":new_count_name}) #.sort(\"rna_class\")\n",
    "    print(tmp_df)\n",
    "    joined_rnas_class_df = joined_rnas_class_df.join(tmp_df, on=\"rna_class\", how=\"left\")\n",
    "    print(joined_rnas_class_df)\n",
    "\n",
    "#joined_rnas_class_df.write_csv(f\"other_rna_gene_mapping_counts.filter_{filter_treshold}.tsv\", sep=\"\\t\")\n",
    "\n",
    "\"\"\""
   ]
  },
  {
   "cell_type": "code",
   "execution_count": null,
   "id": "2cd4d327-7b38-4d5d-960c-97f5b35a4d70",
   "metadata": {},
   "outputs": [],
   "source": []
  }
 ],
 "metadata": {
  "kernelspec": {
   "display_name": "Python 3 (ipykernel)",
   "language": "python",
   "name": "python3"
  },
  "language_info": {
   "codemirror_mode": {
    "name": "ipython",
    "version": 3
   },
   "file_extension": ".py",
   "mimetype": "text/x-python",
   "name": "python",
   "nbconvert_exporter": "python",
   "pygments_lexer": "ipython3",
   "version": "3.10.12"
  }
 },
 "nbformat": 4,
 "nbformat_minor": 5
}
