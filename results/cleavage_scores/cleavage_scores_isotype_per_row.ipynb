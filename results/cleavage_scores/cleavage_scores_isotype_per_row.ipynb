{
 "cells": [
  {
   "cell_type": "markdown",
   "id": "26e68486-feb5-469c-ba0f-188f72c8bf24",
   "metadata": {},
   "source": [
    "# convert cleavage scores\n",
    "\n",
    "Converts TSV with one position per row to a TSV where one row is one isotype"
   ]
  },
  {
   "cell_type": "code",
   "execution_count": 1,
   "id": "5754a6a2-538c-4c92-9f7e-ea81f2052c61",
   "metadata": {},
   "outputs": [],
   "source": [
    "import numpy as np\n",
    "\n",
    "import polars as pl\n",
    "from polars import col"
   ]
  },
  {
   "cell_type": "code",
   "execution_count": 2,
   "id": "953f56b0-b833-4ef9-ad84-3fbb5063759a",
   "metadata": {},
   "outputs": [],
   "source": [
    "input_fn = \"cleavage_scores_bo_seq.tsv\""
   ]
  },
  {
   "cell_type": "code",
   "execution_count": 3,
   "id": "185eadb2-0605-482e-a421-58f7c9618b46",
   "metadata": {},
   "outputs": [],
   "source": [
    "df = pl.read_csv(input_fn, columns=[0,1,6], separator=\"\\t\")"
   ]
  },
  {
   "cell_type": "code",
   "execution_count": 4,
   "id": "e24541b0-939d-4d02-9a8c-fabddba793d0",
   "metadata": {},
   "outputs": [
    {
     "name": "stdout",
     "output_type": "stream",
     "text": [
      "['tRNA-Ala-AGC', 'tRNA-Ala-CGC', 'tRNA-Ala-TGC', 'tRNA-Arg-CCG', 'tRNA-Arg-CCT', 'tRNA-Arg-TCG', 'tRNA-Arg-TCT', 'tRNA-Asn-GTT', 'tRNA-Asp-GTC', 'tRNA-Cys-GCA', 'tRNA-Gln-CTG', 'tRNA-Glu-CTC', 'tRNA-Glu-TTC', 'tRNA-Gly-CCC', 'tRNA-Gly-GCC', 'tRNA-Gly-TCC', 'tRNA-His-GTG', 'tRNA-Ile-AAT', 'tRNA-Ile-TAT', 'tRNA-Leu-AAG', 'tRNA-Leu-CAA', 'tRNA-Leu-CAG', 'tRNA-Leu-TAG', 'tRNA-Lys-CTT', 'tRNA-Lys-TTT', 'tRNA-Met-CAT', 'tRNA-Phe-GAA', 'tRNA-Pro-TGG', 'tRNA-Ser-GCT', 'tRNA-Thr-AGT', 'tRNA-Thr-TGT', 'tRNA-Trp-CCA', 'tRNA-Tyr-GTA', 'tRNA-Val-CAC', 'tRNA-Val-TAC', 'tRNA-iMet-CAT']\n"
     ]
    }
   ],
   "source": [
    "isotypes = []\n",
    "for item in df.select(\"isotype\").unique().sort(\"isotype\").to_dicts():\n",
    "    isotype = item[\"isotype\"]\n",
    "    isotypes.append(isotype)\n",
    "\n",
    "print(isotypes)"
   ]
  },
  {
   "cell_type": "code",
   "execution_count": 5,
   "id": "21d1c704-9c0a-4f32-b8d0-7eae4fa6c465",
   "metadata": {},
   "outputs": [],
   "source": [
    "\n",
    "\n",
    "a = np.zeros((60,), dtype=np.float64)\n",
    "\n",
    "cleavages_dict = {}\n",
    "for isotype in isotypes:\n",
    "    cleavages_dict[isotype] = np.copy(a)    \n",
    "\n",
    "\n",
    "for item in df.to_dicts():\n",
    "    isotype = item[\"isotype\"]\n",
    "    start = item[\"start\"]\n",
    "    score = item[\"cleavage_score\"]\n",
    "    cleavages_dict[isotype][start-1] = score\n",
    "\n",
    "for key in cleavages_dict.keys():\n",
    "    cleavages_dict[key] = cleavages_dict[key].tolist()\n",
    "\n",
    "new_df = pl.DataFrame(cleavages_dict).transpose(include_header=True)\n",
    "#new_df.select(\n",
    "#    pl.all().map_alias(lambda col_name: col_name.split('base_').list.last())\n",
    "#)\n",
    "old_columns = new_df.columns\n",
    "#print(old_columns)\n",
    "new_columns = []\n",
    "for name in old_columns:\n",
    "    if name.startswith(\"column_\"):\n",
    "        base_num = int(name.replace(\"column_\", \"\")) + 1\n",
    "        new_columns.append(f\"base_{base_num}\")\n",
    "    else:\n",
    "        new_columns.append(\"trna_isotype\")\n",
    "#print(new_columns)\n",
    "new_df.columns = new_columns\n",
    "new_df = new_df.drop(\"base_1\tbase_2\tbase_3\tbase_4\tbase_5\tbase_6\tbase_7\tbase_8\tbase_9\".split())\n",
    "new_df\n",
    "new_df.write_csv(\"cleavage_scores_10_60.tsv\", separator=\"\\t\")"
   ]
  }
 ],
 "metadata": {
  "kernelspec": {
   "display_name": "Python 3 (ipykernel)",
   "language": "python",
   "name": "python3"
  },
  "language_info": {
   "codemirror_mode": {
    "name": "ipython",
    "version": 3
   },
   "file_extension": ".py",
   "mimetype": "text/x-python",
   "name": "python",
   "nbconvert_exporter": "python",
   "pygments_lexer": "ipython3",
   "version": "3.11.4"
  }
 },
 "nbformat": 4,
 "nbformat_minor": 5
}
