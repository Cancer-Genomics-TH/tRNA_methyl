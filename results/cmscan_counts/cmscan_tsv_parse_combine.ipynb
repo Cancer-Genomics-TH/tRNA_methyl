{
 "cells": [
  {
   "cell_type": "raw",
   "id": "cc94bad8-fdcc-4385-b088-9a31a9c27cb5",
   "metadata": {},
   "source": [
    "# combine cmscan top hits\n",
    "\n",
    "notebook to combine top hits from Bo-Seq samples.\n",
    "\n",
    "## procedure\n",
    "* counts for distinct fragments i.e. these contaning or not CCA tail but matching the same region of a given tRNA isotype profile are added and the fragment_ids converted to `tRNA-Ala-AGC_43_73`\n",
    "* matches to non-spliced tRNA profiles `['tRNA-Arg-TCT', 'tRNA-Ile-TAT', 'tRNA-Leu-CAA', 'tRNA-Tyr-GTA', 'tRNA-Tyr-ATA']` are filtered out\n",
    "* names of spliced profiles (`spld` prefix) are replaced with `tRNA`\n",
    "* fragments not detected in a given samples have a count 0\n",
    "* optional: extra E-value filtering (see: `uncomment if needed`"
   ]
  },
  {
   "cell_type": "code",
   "execution_count": 1,
   "id": "ce8b95f1-e491-42b4-a760-2851d586a185",
   "metadata": {},
   "outputs": [],
   "source": [
    "import glob\n",
    "import polars as pl\n"
   ]
  },
  {
   "cell_type": "code",
   "execution_count": 2,
   "id": "0bc88611-3d89-402f-a9fa-64783ecba874",
   "metadata": {},
   "outputs": [],
   "source": [
    "E_VALUE_THRESHOLD = 0.001\n",
    "suffix = \"top_hits.tsv\""
   ]
  },
  {
   "cell_type": "code",
   "execution_count": 3,
   "id": "865ea8df-ed5c-4ede-b344-2e2ef5fa46a1",
   "metadata": {},
   "outputs": [
    {
     "name": "stdout",
     "output_type": "stream",
     "text": [
      "['tRNA-Arg-TCT', 'tRNA-Ile-TAT', 'tRNA-Leu-CAA', 'tRNA-Tyr-GTA', 'tRNA-Tyr-ATA']\n"
     ]
    }
   ],
   "source": [
    "samples_dict = {\"D1\":(\"D1_NT\", \"D1_BH4\"), \"NoD1\":(\"NoD1\", \"NoD1_BH4\")}\n",
    "\n",
    "spliced_trnas = \"Arg-TCT Ile-TAT Leu-CAA Tyr-GTA Tyr-ATA\".split()\n",
    "black_list = [f\"tRNA-{x}\" for x in  spliced_trnas]\n",
    "print(black_list)\n",
    "\n",
    "cmscan_cols = [0, 2, 5, 6, 7, 8,  15]\n",
    "col_names = [\"trna_isotype\", \"query\", \"trna_isotype_start\", \n",
    "             \"trna_isotype_end\", \"query_start\", \"query_end\", \n",
    "              \"evalue\"]\n"
   ]
  },
  {
   "cell_type": "code",
   "execution_count": 4,
   "id": "00c97705-83e3-4747-a275-16caf84910e5",
   "metadata": {},
   "outputs": [
    {
     "name": "stdout",
     "output_type": "stream",
     "text": [
      "./2023_07_19/NoD1_BH4.last.t2t_trnas.no_flank_reads.matches.top_hits.tsv NoD1_BH4\n",
      "shape: (8, 6)\n",
      "┌──────────────┬────────────────────┬──────────────────┬───────┬────────────────────┬──────────┐\n",
      "│ trna_isotype ┆ trna_isotype_start ┆ trna_isotype_end ┆ count ┆ fragment_id        ┆ sample   │\n",
      "│ ---          ┆ ---                ┆ ---              ┆ ---   ┆ ---                ┆ ---      │\n",
      "│ str          ┆ i64                ┆ i64              ┆ i32   ┆ str                ┆ str      │\n",
      "╞══════════════╪════════════════════╪══════════════════╪═══════╪════════════════════╪══════════╡\n",
      "│ tRNA-Ala-AGC ┆ 43                 ┆ 73               ┆ 10    ┆ tRNA-Ala-AGC_43_73 ┆ NoD1_BH4 │\n",
      "│ tRNA-Ala-AGC ┆ 45                 ┆ 73               ┆ 12    ┆ tRNA-Ala-AGC_45_73 ┆ NoD1_BH4 │\n",
      "│ tRNA-Ala-AGC ┆ 46                 ┆ 73               ┆ 26    ┆ tRNA-Ala-AGC_46_73 ┆ NoD1_BH4 │\n",
      "│ tRNA-Ala-AGC ┆ 47                 ┆ 73               ┆ 72    ┆ tRNA-Ala-AGC_47_73 ┆ NoD1_BH4 │\n",
      "│ tRNA-Ala-CGC ┆ 1                  ┆ 32               ┆ 13    ┆ tRNA-Ala-CGC_1_32  ┆ NoD1_BH4 │\n",
      "│ tRNA-Ala-CGC ┆ 42                 ┆ 72               ┆ 487   ┆ tRNA-Ala-CGC_42_72 ┆ NoD1_BH4 │\n",
      "│ tRNA-Ala-CGC ┆ 43                 ┆ 72               ┆ 226   ┆ tRNA-Ala-CGC_43_72 ┆ NoD1_BH4 │\n",
      "│ tRNA-Ala-CGC ┆ 44                 ┆ 72               ┆ 936   ┆ tRNA-Ala-CGC_44_72 ┆ NoD1_BH4 │\n",
      "└──────────────┴────────────────────┴──────────────────┴───────┴────────────────────┴──────────┘\n",
      "XXX shape: (5, 6)\n",
      "┌──────────────┬────────────────────┬──────────────────┬───────┬────────────────────┬──────────┐\n",
      "│ trna_isotype ┆ trna_isotype_start ┆ trna_isotype_end ┆ count ┆ fragment_id        ┆ sample   │\n",
      "│ ---          ┆ ---                ┆ ---              ┆ ---   ┆ ---                ┆ ---      │\n",
      "│ str          ┆ i64                ┆ i64              ┆ i32   ┆ str                ┆ str      │\n",
      "╞══════════════╪════════════════════╪══════════════════╪═══════╪════════════════════╪══════════╡\n",
      "│ tRNA-Ala-AGC ┆ 43                 ┆ 73               ┆ 10    ┆ tRNA-Ala-AGC_43_73 ┆ NoD1_BH4 │\n",
      "│ tRNA-Ala-AGC ┆ 45                 ┆ 73               ┆ 12    ┆ tRNA-Ala-AGC_45_73 ┆ NoD1_BH4 │\n",
      "│ tRNA-Ala-AGC ┆ 46                 ┆ 73               ┆ 26    ┆ tRNA-Ala-AGC_46_73 ┆ NoD1_BH4 │\n",
      "│ tRNA-Ala-AGC ┆ 47                 ┆ 73               ┆ 72    ┆ tRNA-Ala-AGC_47_73 ┆ NoD1_BH4 │\n",
      "│ tRNA-Ala-CGC ┆ 1                  ┆ 32               ┆ 13    ┆ tRNA-Ala-CGC_1_32  ┆ NoD1_BH4 │\n",
      "└──────────────┴────────────────────┴──────────────────┴───────┴────────────────────┴──────────┘\n",
      "./2023_07_19/D1_BH4.last.t2t_trnas.no_flank_reads.matches.top_hits.tsv D1_BH4\n",
      "shape: (8, 6)\n",
      "┌──────────────┬────────────────────┬──────────────────┬───────┬────────────────────┬────────┐\n",
      "│ trna_isotype ┆ trna_isotype_start ┆ trna_isotype_end ┆ count ┆ fragment_id        ┆ sample │\n",
      "│ ---          ┆ ---                ┆ ---              ┆ ---   ┆ ---                ┆ ---    │\n",
      "│ str          ┆ i64                ┆ i64              ┆ i32   ┆ str                ┆ str    │\n",
      "╞══════════════╪════════════════════╪══════════════════╪═══════╪════════════════════╪════════╡\n",
      "│ tRNA-Ala-AGC ┆ 43                 ┆ 73               ┆ 118   ┆ tRNA-Ala-AGC_43_73 ┆ D1_BH4 │\n",
      "│ tRNA-Ala-AGC ┆ 45                 ┆ 73               ┆ 84    ┆ tRNA-Ala-AGC_45_73 ┆ D1_BH4 │\n",
      "│ tRNA-Ala-AGC ┆ 46                 ┆ 73               ┆ 131   ┆ tRNA-Ala-AGC_46_73 ┆ D1_BH4 │\n",
      "│ tRNA-Ala-AGC ┆ 47                 ┆ 73               ┆ 231   ┆ tRNA-Ala-AGC_47_73 ┆ D1_BH4 │\n",
      "│ tRNA-Ala-CGC ┆ 1                  ┆ 26               ┆ 10    ┆ tRNA-Ala-CGC_1_26  ┆ D1_BH4 │\n",
      "│ tRNA-Ala-CGC ┆ 1                  ┆ 32               ┆ 52    ┆ tRNA-Ala-CGC_1_32  ┆ D1_BH4 │\n",
      "│ tRNA-Ala-CGC ┆ 1                  ┆ 44               ┆ 10    ┆ tRNA-Ala-CGC_1_44  ┆ D1_BH4 │\n",
      "│ tRNA-Ala-CGC ┆ 42                 ┆ 72               ┆ 1707  ┆ tRNA-Ala-CGC_42_72 ┆ D1_BH4 │\n",
      "└──────────────┴────────────────────┴──────────────────┴───────┴────────────────────┴────────┘\n",
      "XXX shape: (5, 6)\n",
      "┌──────────────┬────────────────────┬──────────────────┬───────┬────────────────────┬──────────┐\n",
      "│ trna_isotype ┆ trna_isotype_start ┆ trna_isotype_end ┆ count ┆ fragment_id        ┆ sample   │\n",
      "│ ---          ┆ ---                ┆ ---              ┆ ---   ┆ ---                ┆ ---      │\n",
      "│ str          ┆ i64                ┆ i64              ┆ i32   ┆ str                ┆ str      │\n",
      "╞══════════════╪════════════════════╪══════════════════╪═══════╪════════════════════╪══════════╡\n",
      "│ tRNA-Ala-AGC ┆ 43                 ┆ 73               ┆ 10    ┆ tRNA-Ala-AGC_43_73 ┆ NoD1_BH4 │\n",
      "│ tRNA-Ala-AGC ┆ 45                 ┆ 73               ┆ 12    ┆ tRNA-Ala-AGC_45_73 ┆ NoD1_BH4 │\n",
      "│ tRNA-Ala-AGC ┆ 46                 ┆ 73               ┆ 26    ┆ tRNA-Ala-AGC_46_73 ┆ NoD1_BH4 │\n",
      "│ tRNA-Ala-AGC ┆ 47                 ┆ 73               ┆ 72    ┆ tRNA-Ala-AGC_47_73 ┆ NoD1_BH4 │\n",
      "│ tRNA-Ala-CGC ┆ 1                  ┆ 32               ┆ 13    ┆ tRNA-Ala-CGC_1_32  ┆ NoD1_BH4 │\n",
      "└──────────────┴────────────────────┴──────────────────┴───────┴────────────────────┴──────────┘\n",
      "./2023_07_19/NoD1_NT.last.t2t_trnas.no_flank_reads.matches.top_hits.tsv NoD1_NT\n",
      "shape: (8, 6)\n",
      "┌──────────────┬────────────────────┬──────────────────┬───────┬───────────────────┬─────────┐\n",
      "│ trna_isotype ┆ trna_isotype_start ┆ trna_isotype_end ┆ count ┆ fragment_id       ┆ sample  │\n",
      "│ ---          ┆ ---                ┆ ---              ┆ ---   ┆ ---               ┆ ---     │\n",
      "│ str          ┆ i64                ┆ i64              ┆ i32   ┆ str               ┆ str     │\n",
      "╞══════════════╪════════════════════╪══════════════════╪═══════╪═══════════════════╪═════════╡\n",
      "│ tRNA-Ala-AGC ┆ 1                  ┆ 33               ┆ 12    ┆ tRNA-Ala-AGC_1_33 ┆ NoD1_NT │\n",
      "│ tRNA-Ala-CGC ┆ 1                  ┆ 26               ┆ 20    ┆ tRNA-Ala-CGC_1_26 ┆ NoD1_NT │\n",
      "│ tRNA-Ala-CGC ┆ 1                  ┆ 27               ┆ 10    ┆ tRNA-Ala-CGC_1_27 ┆ NoD1_NT │\n",
      "│ tRNA-Ala-CGC ┆ 1                  ┆ 28               ┆ 35    ┆ tRNA-Ala-CGC_1_28 ┆ NoD1_NT │\n",
      "│ tRNA-Ala-CGC ┆ 1                  ┆ 29               ┆ 16    ┆ tRNA-Ala-CGC_1_29 ┆ NoD1_NT │\n",
      "│ tRNA-Ala-CGC ┆ 1                  ┆ 30               ┆ 15    ┆ tRNA-Ala-CGC_1_30 ┆ NoD1_NT │\n",
      "│ tRNA-Ala-CGC ┆ 1                  ┆ 31               ┆ 29    ┆ tRNA-Ala-CGC_1_31 ┆ NoD1_NT │\n",
      "│ tRNA-Ala-CGC ┆ 1                  ┆ 32               ┆ 1321  ┆ tRNA-Ala-CGC_1_32 ┆ NoD1_NT │\n",
      "└──────────────┴────────────────────┴──────────────────┴───────┴───────────────────┴─────────┘\n",
      "XXX shape: (5, 6)\n",
      "┌──────────────┬────────────────────┬──────────────────┬───────┬────────────────────┬──────────┐\n",
      "│ trna_isotype ┆ trna_isotype_start ┆ trna_isotype_end ┆ count ┆ fragment_id        ┆ sample   │\n",
      "│ ---          ┆ ---                ┆ ---              ┆ ---   ┆ ---                ┆ ---      │\n",
      "│ str          ┆ i64                ┆ i64              ┆ i32   ┆ str                ┆ str      │\n",
      "╞══════════════╪════════════════════╪══════════════════╪═══════╪════════════════════╪══════════╡\n",
      "│ tRNA-Ala-AGC ┆ 43                 ┆ 73               ┆ 10    ┆ tRNA-Ala-AGC_43_73 ┆ NoD1_BH4 │\n",
      "│ tRNA-Ala-AGC ┆ 45                 ┆ 73               ┆ 12    ┆ tRNA-Ala-AGC_45_73 ┆ NoD1_BH4 │\n",
      "│ tRNA-Ala-AGC ┆ 46                 ┆ 73               ┆ 26    ┆ tRNA-Ala-AGC_46_73 ┆ NoD1_BH4 │\n",
      "│ tRNA-Ala-AGC ┆ 47                 ┆ 73               ┆ 72    ┆ tRNA-Ala-AGC_47_73 ┆ NoD1_BH4 │\n",
      "│ tRNA-Ala-CGC ┆ 1                  ┆ 32               ┆ 13    ┆ tRNA-Ala-CGC_1_32  ┆ NoD1_BH4 │\n",
      "└──────────────┴────────────────────┴──────────────────┴───────┴────────────────────┴──────────┘\n",
      "./2023_07_19/D1_NT.last.t2t_trnas.no_flank_reads.matches.top_hits.tsv D1_NT\n",
      "shape: (8, 6)\n",
      "┌──────────────┬────────────────────┬──────────────────┬───────┬────────────────────┬────────┐\n",
      "│ trna_isotype ┆ trna_isotype_start ┆ trna_isotype_end ┆ count ┆ fragment_id        ┆ sample │\n",
      "│ ---          ┆ ---                ┆ ---              ┆ ---   ┆ ---                ┆ ---    │\n",
      "│ str          ┆ i64                ┆ i64              ┆ i32   ┆ str                ┆ str    │\n",
      "╞══════════════╪════════════════════╪══════════════════╪═══════╪════════════════════╪════════╡\n",
      "│ tRNA-Ala-AGC ┆ 8                  ┆ 53               ┆ 10    ┆ tRNA-Ala-AGC_8_53  ┆ D1_NT  │\n",
      "│ tRNA-Ala-AGC ┆ 12                 ┆ 60               ┆ 11    ┆ tRNA-Ala-AGC_12_60 ┆ D1_NT  │\n",
      "│ tRNA-Ala-CGC ┆ 1                  ┆ 28               ┆ 27    ┆ tRNA-Ala-CGC_1_28  ┆ D1_NT  │\n",
      "│ tRNA-Ala-CGC ┆ 1                  ┆ 31               ┆ 25    ┆ tRNA-Ala-CGC_1_31  ┆ D1_NT  │\n",
      "│ tRNA-Ala-CGC ┆ 1                  ┆ 32               ┆ 286   ┆ tRNA-Ala-CGC_1_32  ┆ D1_NT  │\n",
      "│ tRNA-Ala-CGC ┆ 1                  ┆ 33               ┆ 43    ┆ tRNA-Ala-CGC_1_33  ┆ D1_NT  │\n",
      "│ tRNA-Ala-CGC ┆ 1                  ┆ 46               ┆ 11    ┆ tRNA-Ala-CGC_1_46  ┆ D1_NT  │\n",
      "│ tRNA-Ala-CGC ┆ 13                 ┆ 60               ┆ 13    ┆ tRNA-Ala-CGC_13_60 ┆ D1_NT  │\n",
      "└──────────────┴────────────────────┴──────────────────┴───────┴────────────────────┴────────┘\n",
      "XXX shape: (5, 6)\n",
      "┌──────────────┬────────────────────┬──────────────────┬───────┬────────────────────┬──────────┐\n",
      "│ trna_isotype ┆ trna_isotype_start ┆ trna_isotype_end ┆ count ┆ fragment_id        ┆ sample   │\n",
      "│ ---          ┆ ---                ┆ ---              ┆ ---   ┆ ---                ┆ ---      │\n",
      "│ str          ┆ i64                ┆ i64              ┆ i32   ┆ str                ┆ str      │\n",
      "╞══════════════╪════════════════════╪══════════════════╪═══════╪════════════════════╪══════════╡\n",
      "│ tRNA-Ala-AGC ┆ 43                 ┆ 73               ┆ 10    ┆ tRNA-Ala-AGC_43_73 ┆ NoD1_BH4 │\n",
      "│ tRNA-Ala-AGC ┆ 45                 ┆ 73               ┆ 12    ┆ tRNA-Ala-AGC_45_73 ┆ NoD1_BH4 │\n",
      "│ tRNA-Ala-AGC ┆ 46                 ┆ 73               ┆ 26    ┆ tRNA-Ala-AGC_46_73 ┆ NoD1_BH4 │\n",
      "│ tRNA-Ala-AGC ┆ 47                 ┆ 73               ┆ 72    ┆ tRNA-Ala-AGC_47_73 ┆ NoD1_BH4 │\n",
      "│ tRNA-Ala-CGC ┆ 1                  ┆ 32               ┆ 13    ┆ tRNA-Ala-CGC_1_32  ┆ NoD1_BH4 │\n",
      "└──────────────┴────────────────────┴──────────────────┴───────┴────────────────────┴──────────┘\n",
      "shape: (5, 6)\n",
      "┌──────────────┬────────────────────┬──────────────────┬───────┬────────────────────┬──────────┐\n",
      "│ trna_isotype ┆ trna_isotype_start ┆ trna_isotype_end ┆ count ┆ fragment_id        ┆ sample   │\n",
      "│ ---          ┆ ---                ┆ ---              ┆ ---   ┆ ---                ┆ ---      │\n",
      "│ str          ┆ i64                ┆ i64              ┆ i32   ┆ str                ┆ str      │\n",
      "╞══════════════╪════════════════════╪══════════════════╪═══════╪════════════════════╪══════════╡\n",
      "│ tRNA-Ala-AGC ┆ 43                 ┆ 73               ┆ 10    ┆ tRNA-Ala-AGC_43_73 ┆ NoD1_BH4 │\n",
      "│ tRNA-Ala-AGC ┆ 45                 ┆ 73               ┆ 12    ┆ tRNA-Ala-AGC_45_73 ┆ NoD1_BH4 │\n",
      "│ tRNA-Ala-AGC ┆ 46                 ┆ 73               ┆ 26    ┆ tRNA-Ala-AGC_46_73 ┆ NoD1_BH4 │\n",
      "│ tRNA-Ala-AGC ┆ 47                 ┆ 73               ┆ 72    ┆ tRNA-Ala-AGC_47_73 ┆ NoD1_BH4 │\n",
      "│ tRNA-Ala-CGC ┆ 1                  ┆ 32               ┆ 13    ┆ tRNA-Ala-CGC_1_32  ┆ NoD1_BH4 │\n",
      "└──────────────┴────────────────────┴──────────────────┴───────┴────────────────────┴──────────┘\n"
     ]
    }
   ],
   "source": [
    "cmscan_fn_list = glob.glob(f\"./2023_07_19/*{suffix}\")\n",
    "\n",
    "counter = 0\n",
    "\n",
    "for fn in cmscan_fn_list:\n",
    "    sample_id = fn.split(\"/\")[2].split(\".\")[0]\n",
    "    #count_col_name = f\"{sample_id}__count\"\n",
    "    print(fn, sample_id)\n",
    "    tmp_df = pl.read_csv(fn, has_header=False, separator=\"\\t\", columns=cmscan_cols, new_columns = col_names ).filter(pl.col(\"trna_isotype\").is_in(black_list).is_not()) \n",
    "    ### uncomment if needed\n",
    "    ###.filter(pl.col(\"evalue\") < E_VALUE_THRESHOLD)\n",
    "    \n",
    "    tmp_df = tmp_df.with_columns([pl.col(\"query\").str.split(by=\"__\").list.get(2).str.replace(\"count\", \"\").cast(pl.Int32).alias(\"count\"),\n",
    "                                 pl.col('trna_isotype').str.replace(\"spld\", \"tRNA\")]).sort([\"trna_isotype\", \"trna_isotype_start\", \"trna_isotype_end\"])\n",
    "    df = tmp_df.select([\"trna_isotype\", \"trna_isotype_start\", \"trna_isotype_end\", \"count\"]).groupby([\"trna_isotype\", \"trna_isotype_start\", \"trna_isotype_end\"], maintain_order=True ).agg(pl.col(\"count\").sum()) #.sort([]) \n",
    "    df = df.with_columns([pl.concat_str([pl.col(\"trna_isotype\"), pl.col(\"trna_isotype_start\"), pl.col(\"trna_isotype_end\")], separator=\"_\").alias(\"fragment_id\"),\n",
    "                         pl.lit(sample_id).alias(\"sample\") ])\n",
    "\n",
    "\n",
    "    #df.with_column(pl.lit(1).alias(\"constant_column\"))\n",
    "    #print(tmp_df.head(10))\n",
    "    print(df.head(8))\n",
    "    \n",
    "    if counter == 0:\n",
    "        result_df = df.select(pl.all())\n",
    "    else:\n",
    "        #xxx_df = df.select([\"fragment_id\", count_col_name])\n",
    "        result_df = result_df.vstack(df)\n",
    "    counter += 1\n",
    "    print(\"XXX\", result_df.head())\n",
    "\n",
    "print(result_df.head())\n",
    "\n",
    "\n"
   ]
  },
  {
   "cell_type": "code",
   "execution_count": 5,
   "id": "df18fb4b-c1f6-47e0-9602-4b6920a237aa",
   "metadata": {},
   "outputs": [
    {
     "data": {
      "text/html": [
       "<div><style>\n",
       ".dataframe > thead > tr > th,\n",
       ".dataframe > tbody > tr > td {\n",
       "  text-align: right;\n",
       "}\n",
       "</style>\n",
       "<small>shape: (1_975, 8)</small><table border=\"1\" class=\"dataframe\"><thead><tr><th>fragment_id</th><th>trna_isotype</th><th>trna_isotype_start</th><th>trna_isotype_end</th><th>NoD1_BH4</th><th>D1_BH4</th><th>NoD1_NT</th><th>D1_NT</th></tr><tr><td>str</td><td>str</td><td>i64</td><td>i64</td><td>i32</td><td>i32</td><td>i32</td><td>i32</td></tr></thead><tbody><tr><td>&quot;tRNA-Ala-AGC_1…</td><td>&quot;tRNA-Ala-AGC&quot;</td><td>1</td><td>33</td><td>0</td><td>0</td><td>12</td><td>0</td></tr><tr><td>&quot;tRNA-Ala-AGC_8…</td><td>&quot;tRNA-Ala-AGC&quot;</td><td>8</td><td>53</td><td>0</td><td>0</td><td>0</td><td>10</td></tr><tr><td>&quot;tRNA-Ala-AGC_1…</td><td>&quot;tRNA-Ala-AGC&quot;</td><td>12</td><td>60</td><td>0</td><td>0</td><td>0</td><td>11</td></tr><tr><td>&quot;tRNA-Ala-AGC_4…</td><td>&quot;tRNA-Ala-AGC&quot;</td><td>43</td><td>73</td><td>10</td><td>118</td><td>0</td><td>0</td></tr><tr><td>&quot;tRNA-Ala-AGC_4…</td><td>&quot;tRNA-Ala-AGC&quot;</td><td>45</td><td>73</td><td>12</td><td>84</td><td>0</td><td>0</td></tr><tr><td>&quot;tRNA-Ala-AGC_4…</td><td>&quot;tRNA-Ala-AGC&quot;</td><td>46</td><td>73</td><td>26</td><td>131</td><td>0</td><td>0</td></tr><tr><td>&quot;tRNA-Ala-AGC_4…</td><td>&quot;tRNA-Ala-AGC&quot;</td><td>47</td><td>73</td><td>72</td><td>231</td><td>0</td><td>0</td></tr><tr><td>&quot;tRNA-Ala-CGC_1…</td><td>&quot;tRNA-Ala-CGC&quot;</td><td>1</td><td>26</td><td>0</td><td>10</td><td>20</td><td>0</td></tr><tr><td>&quot;tRNA-Ala-CGC_1…</td><td>&quot;tRNA-Ala-CGC&quot;</td><td>1</td><td>27</td><td>0</td><td>0</td><td>10</td><td>0</td></tr><tr><td>&quot;tRNA-Ala-CGC_1…</td><td>&quot;tRNA-Ala-CGC&quot;</td><td>1</td><td>28</td><td>0</td><td>0</td><td>35</td><td>27</td></tr><tr><td>&quot;tRNA-Ala-CGC_1…</td><td>&quot;tRNA-Ala-CGC&quot;</td><td>1</td><td>29</td><td>0</td><td>0</td><td>16</td><td>0</td></tr><tr><td>&quot;tRNA-Ala-CGC_1…</td><td>&quot;tRNA-Ala-CGC&quot;</td><td>1</td><td>30</td><td>0</td><td>0</td><td>15</td><td>0</td></tr><tr><td>&hellip;</td><td>&hellip;</td><td>&hellip;</td><td>&hellip;</td><td>&hellip;</td><td>&hellip;</td><td>&hellip;</td><td>&hellip;</td></tr><tr><td>&quot;tRNA_Tyr-GTA_3…</td><td>&quot;tRNA_Tyr-GTA&quot;</td><td>38</td><td>64</td><td>0</td><td>0</td><td>0</td><td>20</td></tr><tr><td>&quot;tRNA_Tyr-GTA_3…</td><td>&quot;tRNA_Tyr-GTA&quot;</td><td>38</td><td>72</td><td>0</td><td>0</td><td>0</td><td>20</td></tr><tr><td>&quot;tRNA_Tyr-GTA_4…</td><td>&quot;tRNA_Tyr-GTA&quot;</td><td>40</td><td>73</td><td>0</td><td>0</td><td>17</td><td>0</td></tr><tr><td>&quot;tRNA_Tyr-GTA_4…</td><td>&quot;tRNA_Tyr-GTA&quot;</td><td>41</td><td>73</td><td>0</td><td>0</td><td>85</td><td>59</td></tr><tr><td>&quot;tRNA_Tyr-GTA_4…</td><td>&quot;tRNA_Tyr-GTA&quot;</td><td>42</td><td>73</td><td>0</td><td>0</td><td>93</td><td>24</td></tr><tr><td>&quot;tRNA_Tyr-GTA_4…</td><td>&quot;tRNA_Tyr-GTA&quot;</td><td>43</td><td>73</td><td>60</td><td>451</td><td>91</td><td>72</td></tr><tr><td>&quot;tRNA_Tyr-GTA_4…</td><td>&quot;tRNA_Tyr-GTA&quot;</td><td>44</td><td>73</td><td>157</td><td>1100</td><td>276</td><td>83</td></tr><tr><td>&quot;tRNA_Tyr-GTA_4…</td><td>&quot;tRNA_Tyr-GTA&quot;</td><td>45</td><td>73</td><td>1594</td><td>9982</td><td>0</td><td>0</td></tr><tr><td>&quot;tRNA_Tyr-GTA_4…</td><td>&quot;tRNA_Tyr-GTA&quot;</td><td>46</td><td>73</td><td>2765</td><td>3355</td><td>15</td><td>24</td></tr><tr><td>&quot;tRNA_Tyr-GTA_4…</td><td>&quot;tRNA_Tyr-GTA&quot;</td><td>47</td><td>73</td><td>1051</td><td>11415</td><td>10</td><td>16</td></tr><tr><td>&quot;tRNA_Tyr-GTA_4…</td><td>&quot;tRNA_Tyr-GTA&quot;</td><td>48</td><td>73</td><td>62</td><td>627</td><td>10</td><td>0</td></tr><tr><td>&quot;tRNA_Tyr-GTA_4…</td><td>&quot;tRNA_Tyr-GTA&quot;</td><td>49</td><td>73</td><td>0</td><td>80</td><td>0</td><td>0</td></tr></tbody></table></div>"
      ],
      "text/plain": [
       "shape: (1_975, 8)\n",
       "┌───────────────┬──────────────┬──────────────┬──────────────┬──────────┬────────┬─────────┬───────┐\n",
       "│ fragment_id   ┆ trna_isotype ┆ trna_isotype ┆ trna_isotype ┆ NoD1_BH4 ┆ D1_BH4 ┆ NoD1_NT ┆ D1_NT │\n",
       "│ ---           ┆ ---          ┆ _start       ┆ _end         ┆ ---      ┆ ---    ┆ ---     ┆ ---   │\n",
       "│ str           ┆ str          ┆ ---          ┆ ---          ┆ i32      ┆ i32    ┆ i32     ┆ i32   │\n",
       "│               ┆              ┆ i64          ┆ i64          ┆          ┆        ┆         ┆       │\n",
       "╞═══════════════╪══════════════╪══════════════╪══════════════╪══════════╪════════╪═════════╪═══════╡\n",
       "│ tRNA-Ala-AGC_ ┆ tRNA-Ala-AGC ┆ 1            ┆ 33           ┆ 0        ┆ 0      ┆ 12      ┆ 0     │\n",
       "│ 1_33          ┆              ┆              ┆              ┆          ┆        ┆         ┆       │\n",
       "│ tRNA-Ala-AGC_ ┆ tRNA-Ala-AGC ┆ 8            ┆ 53           ┆ 0        ┆ 0      ┆ 0       ┆ 10    │\n",
       "│ 8_53          ┆              ┆              ┆              ┆          ┆        ┆         ┆       │\n",
       "│ tRNA-Ala-AGC_ ┆ tRNA-Ala-AGC ┆ 12           ┆ 60           ┆ 0        ┆ 0      ┆ 0       ┆ 11    │\n",
       "│ 12_60         ┆              ┆              ┆              ┆          ┆        ┆         ┆       │\n",
       "│ tRNA-Ala-AGC_ ┆ tRNA-Ala-AGC ┆ 43           ┆ 73           ┆ 10       ┆ 118    ┆ 0       ┆ 0     │\n",
       "│ 43_73         ┆              ┆              ┆              ┆          ┆        ┆         ┆       │\n",
       "│ …             ┆ …            ┆ …            ┆ …            ┆ …        ┆ …      ┆ …       ┆ …     │\n",
       "│ tRNA_Tyr-GTA_ ┆ tRNA_Tyr-GTA ┆ 46           ┆ 73           ┆ 2765     ┆ 3355   ┆ 15      ┆ 24    │\n",
       "│ 46_73         ┆              ┆              ┆              ┆          ┆        ┆         ┆       │\n",
       "│ tRNA_Tyr-GTA_ ┆ tRNA_Tyr-GTA ┆ 47           ┆ 73           ┆ 1051     ┆ 11415  ┆ 10      ┆ 16    │\n",
       "│ 47_73         ┆              ┆              ┆              ┆          ┆        ┆         ┆       │\n",
       "│ tRNA_Tyr-GTA_ ┆ tRNA_Tyr-GTA ┆ 48           ┆ 73           ┆ 62       ┆ 627    ┆ 10      ┆ 0     │\n",
       "│ 48_73         ┆              ┆              ┆              ┆          ┆        ┆         ┆       │\n",
       "│ tRNA_Tyr-GTA_ ┆ tRNA_Tyr-GTA ┆ 49           ┆ 73           ┆ 0        ┆ 80     ┆ 0       ┆ 0     │\n",
       "│ 49_73         ┆              ┆              ┆              ┆          ┆        ┆         ┆       │\n",
       "└───────────────┴──────────────┴──────────────┴──────────────┴──────────┴────────┴─────────┴───────┘"
      ]
     },
     "execution_count": 5,
     "metadata": {},
     "output_type": "execute_result"
    }
   ],
   "source": [
    "#NoD1_BH4\tD1_BH4\tNoD1_NT\tD1_NT columns represent counts\n",
    "combined_df = result_df.pivot(index =[\"fragment_id\", \"trna_isotype\", \"trna_isotype_start\", \"trna_isotype_end\" ],  columns=\"sample\", values=\"count\", aggregate_function=\"first\").with_columns(pl.col(\"NoD1_BH4\tD1_BH4\tNoD1_NT\tD1_NT\".split()).fill_null(strategy=\"zero\")).sort(\"trna_isotype\ttrna_isotype_start\ttrna_isotype_end\".split())\n",
    "combined_df.write_csv(\"fragment_counts_combined_boseq_2023_07_21a.tsv\", separator=\"\\t\")\n",
    "combined_df"
   ]
  },
  {
   "cell_type": "code",
   "execution_count": 6,
   "id": "8977043f-e240-4688-a32c-fc52a132b940",
   "metadata": {},
   "outputs": [
    {
     "data": {
      "text/html": [
       "<div><style>\n",
       ".dataframe > thead > tr > th,\n",
       ".dataframe > tbody > tr > td {\n",
       "  text-align: right;\n",
       "}\n",
       "</style>\n",
       "<small>shape: (9, 9)</small><table border=\"1\" class=\"dataframe\"><thead><tr><th>describe</th><th>fragment_id</th><th>trna_isotype</th><th>trna_isotype_start</th><th>trna_isotype_end</th><th>NoD1_BH4</th><th>D1_BH4</th><th>NoD1_NT</th><th>D1_NT</th></tr><tr><td>str</td><td>str</td><td>str</td><td>f64</td><td>f64</td><td>f64</td><td>f64</td><td>f64</td><td>f64</td></tr></thead><tbody><tr><td>&quot;count&quot;</td><td>&quot;1975&quot;</td><td>&quot;1975&quot;</td><td>1975.0</td><td>1975.0</td><td>1975.0</td><td>1975.0</td><td>1975.0</td><td>1975.0</td></tr><tr><td>&quot;null_count&quot;</td><td>&quot;0&quot;</td><td>&quot;0&quot;</td><td>0.0</td><td>0.0</td><td>0.0</td><td>0.0</td><td>0.0</td><td>0.0</td></tr><tr><td>&quot;mean&quot;</td><td>null</td><td>null</td><td>19.198987</td><td>55.667848</td><td>67.67443</td><td>346.476962</td><td>486.375696</td><td>261.996456</td></tr><tr><td>&quot;std&quot;</td><td>null</td><td>null</td><td>16.215975</td><td>15.483005</td><td>548.006307</td><td>1975.996841</td><td>4102.999299</td><td>1842.10834</td></tr><tr><td>&quot;min&quot;</td><td>&quot;tRNA-Ala-AGC_1…</td><td>&quot;tRNA-Ala-AGC&quot;</td><td>1.0</td><td>25.0</td><td>0.0</td><td>0.0</td><td>0.0</td><td>0.0</td></tr><tr><td>&quot;max&quot;</td><td>&quot;tRNA_Tyr-GTA_9…</td><td>&quot;tRNA_Tyr-GTA&quot;</td><td>60.0</td><td>86.0</td><td>19037.0</td><td>44672.0</td><td>134773.0</td><td>43077.0</td></tr><tr><td>&quot;median&quot;</td><td>null</td><td>null</td><td>15.0</td><td>56.0</td><td>0.0</td><td>10.0</td><td>14.0</td><td>14.0</td></tr><tr><td>&quot;25%&quot;</td><td>null</td><td>null</td><td>4.0</td><td>43.0</td><td>0.0</td><td>0.0</td><td>0.0</td><td>0.0</td></tr><tr><td>&quot;75%&quot;</td><td>null</td><td>null</td><td>35.0</td><td>71.0</td><td>0.0</td><td>45.0</td><td>59.0</td><td>39.0</td></tr></tbody></table></div>"
      ],
      "text/plain": [
       "shape: (9, 9)\n",
       "┌───────────┬───────────┬───────────┬───────────┬───┬───────────┬───────────┬───────────┬──────────┐\n",
       "│ describe  ┆ fragment_ ┆ trna_isot ┆ trna_isot ┆ … ┆ NoD1_BH4  ┆ D1_BH4    ┆ NoD1_NT   ┆ D1_NT    │\n",
       "│ ---       ┆ id        ┆ ype       ┆ ype_start ┆   ┆ ---       ┆ ---       ┆ ---       ┆ ---      │\n",
       "│ str       ┆ ---       ┆ ---       ┆ ---       ┆   ┆ f64       ┆ f64       ┆ f64       ┆ f64      │\n",
       "│           ┆ str       ┆ str       ┆ f64       ┆   ┆           ┆           ┆           ┆          │\n",
       "╞═══════════╪═══════════╪═══════════╪═══════════╪═══╪═══════════╪═══════════╪═══════════╪══════════╡\n",
       "│ count     ┆ 1975      ┆ 1975      ┆ 1975.0    ┆ … ┆ 1975.0    ┆ 1975.0    ┆ 1975.0    ┆ 1975.0   │\n",
       "│ null_coun ┆ 0         ┆ 0         ┆ 0.0       ┆ … ┆ 0.0       ┆ 0.0       ┆ 0.0       ┆ 0.0      │\n",
       "│ t         ┆           ┆           ┆           ┆   ┆           ┆           ┆           ┆          │\n",
       "│ mean      ┆ null      ┆ null      ┆ 19.198987 ┆ … ┆ 67.67443  ┆ 346.47696 ┆ 486.37569 ┆ 261.9964 │\n",
       "│           ┆           ┆           ┆           ┆   ┆           ┆ 2         ┆ 6         ┆ 56       │\n",
       "│ std       ┆ null      ┆ null      ┆ 16.215975 ┆ … ┆ 548.00630 ┆ 1975.9968 ┆ 4102.9992 ┆ 1842.108 │\n",
       "│           ┆           ┆           ┆           ┆   ┆ 7         ┆ 41        ┆ 99        ┆ 34       │\n",
       "│ min       ┆ tRNA-Ala- ┆ tRNA-Ala- ┆ 1.0       ┆ … ┆ 0.0       ┆ 0.0       ┆ 0.0       ┆ 0.0      │\n",
       "│           ┆ AGC_12_60 ┆ AGC       ┆           ┆   ┆           ┆           ┆           ┆          │\n",
       "│ max       ┆ tRNA_Tyr- ┆ tRNA_Tyr- ┆ 60.0      ┆ … ┆ 19037.0   ┆ 44672.0   ┆ 134773.0  ┆ 43077.0  │\n",
       "│           ┆ GTA_9_40  ┆ GTA       ┆           ┆   ┆           ┆           ┆           ┆          │\n",
       "│ median    ┆ null      ┆ null      ┆ 15.0      ┆ … ┆ 0.0       ┆ 10.0      ┆ 14.0      ┆ 14.0     │\n",
       "│ 25%       ┆ null      ┆ null      ┆ 4.0       ┆ … ┆ 0.0       ┆ 0.0       ┆ 0.0       ┆ 0.0      │\n",
       "│ 75%       ┆ null      ┆ null      ┆ 35.0      ┆ … ┆ 0.0       ┆ 45.0      ┆ 59.0      ┆ 39.0     │\n",
       "└───────────┴───────────┴───────────┴───────────┴───┴───────────┴───────────┴───────────┴──────────┘"
      ]
     },
     "execution_count": 6,
     "metadata": {},
     "output_type": "execute_result"
    }
   ],
   "source": [
    "combined_df.describe()"
   ]
  },
  {
   "cell_type": "code",
   "execution_count": 7,
   "id": "270f48f5-c392-44da-a67a-19ff958c8605",
   "metadata": {},
   "outputs": [
    {
     "data": {
      "text/html": [
       "<div><style>\n",
       ".dataframe > thead > tr > th,\n",
       ".dataframe > tbody > tr > td {\n",
       "  text-align: right;\n",
       "}\n",
       "</style>\n",
       "<small>shape: (46, 2)</small><table border=\"1\" class=\"dataframe\"><thead><tr><th>trna_isotype</th><th>trna_isotype_end</th></tr><tr><td>str</td><td>i64</td></tr></thead><tbody><tr><td>&quot;tRNA-Ser-CGA&quot;</td><td>47</td></tr><tr><td>&quot;tRNA-Val-AAC&quot;</td><td>47</td></tr><tr><td>&quot;tRNA-Leu-TAA&quot;</td><td>49</td></tr><tr><td>&quot;tRNA-Pro-CGG&quot;</td><td>53</td></tr><tr><td>&quot;tRNA-Gln-TTG&quot;</td><td>55</td></tr><tr><td>&quot;tRNA-Gly-GCC&quot;</td><td>71</td></tr><tr><td>&quot;tRNA-Gly-CCC&quot;</td><td>71</td></tr><tr><td>&quot;tRNA-Glu-TTC&quot;</td><td>72</td></tr><tr><td>&quot;tRNA-Ala-TGC&quot;</td><td>72</td></tr><tr><td>&quot;tRNA-Asp-GTC&quot;</td><td>72</td></tr><tr><td>&quot;tRNA-Cys-GCA&quot;</td><td>72</td></tr><tr><td>&quot;tRNA-Met-CAT&quot;</td><td>72</td></tr><tr><td>&hellip;</td><td>&hellip;</td></tr><tr><td>&quot;tRNA-Thr-TGT&quot;</td><td>73</td></tr><tr><td>&quot;tRNA-Asn-GTT&quot;</td><td>74</td></tr><tr><td>&quot;tRNA-Ile-AAT&quot;</td><td>74</td></tr><tr><td>&quot;tRNA-Thr-AGT&quot;</td><td>74</td></tr><tr><td>&quot;tRNA_Ile-TAT&quot;</td><td>74</td></tr><tr><td>&quot;tRNA-Ser-AGA&quot;</td><td>79</td></tr><tr><td>&quot;tRNA-Leu-AAG&quot;</td><td>82</td></tr><tr><td>&quot;tRNA-Ser-GCT&quot;</td><td>82</td></tr><tr><td>&quot;tRNA-Leu-TAG&quot;</td><td>82</td></tr><tr><td>&quot;tRNA_Leu-CAA&quot;</td><td>83</td></tr><tr><td>&quot;tRNA-Leu-CAG&quot;</td><td>83</td></tr><tr><td>&quot;tRNA-SeC-TCA&quot;</td><td>86</td></tr></tbody></table></div>"
      ],
      "text/plain": [
       "shape: (46, 2)\n",
       "┌──────────────┬──────────────────┐\n",
       "│ trna_isotype ┆ trna_isotype_end │\n",
       "│ ---          ┆ ---              │\n",
       "│ str          ┆ i64              │\n",
       "╞══════════════╪══════════════════╡\n",
       "│ tRNA-Ser-CGA ┆ 47               │\n",
       "│ tRNA-Val-AAC ┆ 47               │\n",
       "│ tRNA-Leu-TAA ┆ 49               │\n",
       "│ tRNA-Pro-CGG ┆ 53               │\n",
       "│ …            ┆ …                │\n",
       "│ tRNA-Leu-TAG ┆ 82               │\n",
       "│ tRNA_Leu-CAA ┆ 83               │\n",
       "│ tRNA-Leu-CAG ┆ 83               │\n",
       "│ tRNA-SeC-TCA ┆ 86               │\n",
       "└──────────────┴──────────────────┘"
      ]
     },
     "execution_count": 7,
     "metadata": {},
     "output_type": "execute_result"
    }
   ],
   "source": [
    "isotype_end_df = combined_df.select([\"trna_isotype\", \"trna_isotype_end\"]).groupby(\"trna_isotype\").max().sort(\"trna_isotype_end\")\n",
    "isotype_end_df\n"
   ]
  }
 ],
 "metadata": {
  "kernelspec": {
   "display_name": "Python 3 (ipykernel)",
   "language": "python",
   "name": "python3"
  },
  "language_info": {
   "codemirror_mode": {
    "name": "ipython",
    "version": 3
   },
   "file_extension": ".py",
   "mimetype": "text/x-python",
   "name": "python",
   "nbconvert_exporter": "python",
   "pygments_lexer": "ipython3",
   "version": "3.11.4"
  }
 },
 "nbformat": 4,
 "nbformat_minor": 5
}
